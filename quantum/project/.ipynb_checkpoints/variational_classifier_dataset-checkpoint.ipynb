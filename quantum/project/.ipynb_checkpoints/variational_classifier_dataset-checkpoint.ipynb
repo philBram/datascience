{
 "cells": [
  {
   "cell_type": "code",
   "execution_count": 40,
   "id": "eeb69c74",
   "metadata": {},
   "outputs": [],
   "source": [
    "##################################################################################################################\n",
    "# \n",
    "#   Variational Classifier für einen Datensatz und mit einem NesterovMomentumOptimizer von pennylane\n",
    "#\n",
    "#   Author: Philip Bramwell\n",
    "#   Datum: 12 November\n",
    "#   Version: 1.0.0\n",
    "# \n",
    "#   Datensatz: Air_Traffic_Passenger_Statistics\n",
    "#   link: https://data.world/data-society/air-traffic-passenger-data\n",
    "#\n",
    "#   LIB:\n",
    "#       pennylane: https://pennylane.ai\n",
    "#       pandas: https://pandas.pydata.org\n",
    "#       matplotlib: https://matplotlib.org\n",
    "#       numpy: https://pennylane.readthedocs.io/en/stable/introduction/interfaces/numpy.html\n",
    "#\n",
    "#   Ziel: \n",
    "#         * Den Datensatz anhand eines aussagekräftigen Merkmales in zwei Gruppen klassifizieren\n",
    "#         * Optimierung mit einem Quantumcircuits und dem NesterovMomentumOptimizer von pennylane\n",
    "#         * Die zwei Klassifikationsgruppen visuell darstellen\n",
    "#\n",
    "#   Github: https://github.com/philBram/quantum\n",
    "#   Documents: https://pennylane.ai/qml/demos/tutorial_variational_classifier.html\n",
    "#\n",
    "#   Index: \n",
    "#         1. benötigte LIBs importieren\n",
    "#         2. Datensatz laden\n",
    "#         3. Variablen definieren\n",
    "#         4. Funktionen für die state preparation definieren\n",
    "#         5. Funktion für den Layer, der zur Erzeugung eines Quantumcircuits verwendet wird, definieren\n",
    "#         6. Funktionen, die einen Variational Classifier erzeugen, definieren\n",
    "#         7. Funktionen, die für die Optimierungsbewertung verwendet werden, definieren\n",
    "#         8. Datensatz vorbereiten\n",
    "#         9. Daten visualisieren\n",
    "#         10. Optimierung\n",
    "#         11. finale Daten ausgeben\n",
    "#\n",
    "##################################################################################################################"
   ]
  },
  {
   "cell_type": "markdown",
   "id": "874c4c64",
   "metadata": {},
   "source": [
    "# Imports"
   ]
  },
  {
   "cell_type": "code",
   "execution_count": 41,
   "id": "99912d13",
   "metadata": {},
   "outputs": [],
   "source": [
    "import pennylane as qml\n",
    "from pennylane import numpy as np\n",
    "import matplotlib.pyplot as plt\n",
    "import pandas as pd\n",
    "\n",
    "# https://pennylane.readthedocs.io/en/stable/code/api/pennylane.NesterovMomentumOptimizer.html\n",
    "from pennylane.optimize import NesterovMomentumOptimizer"
   ]
  },
  {
   "cell_type": "markdown",
   "id": "df17f661",
   "metadata": {},
   "source": [
    "# Datensatz"
   ]
  },
  {
   "cell_type": "code",
   "execution_count": 42,
   "id": "523db720",
   "metadata": {},
   "outputs": [],
   "source": [
    "##################################################################################################################\n",
    "#\n",
    "#    Datensatz Air_Traffic_Passenger_Statistics über pandas einlesen \n",
    "#    Link: https://data.world/data-society/air-traffic-passenger-data\n",
    "#\n",
    "##################################################################################################################\n",
    "\n",
    "dataset_csv = pd.read_csv(\"real_estate.csv\")"
   ]
  },
  {
   "cell_type": "markdown",
   "id": "c2ad53c5",
   "metadata": {},
   "source": [
    "# Variablen"
   ]
  },
  {
   "cell_type": "code",
   "execution_count": 43,
   "id": "f53bd26f",
   "metadata": {},
   "outputs": [],
   "source": [
    "# Quantum device mit zwei Qubits. default.qubit ist ein einfacher simple state simulator\n",
    "dev = qml.device(\"default.qubit\", wires=2)\n",
    "\n",
    "# Datensatz Air_Traffic_Passenger_Statistics laden\n",
    "data = pd.read_csv(\"Air_Traffic_Passenger_Statistics.csv\")\n",
    "\n",
    "# unabhängige Variablen\n",
    "year = data[\"Year\"]\n",
    "passenger_count = data[\"Passenger Count\"]\n",
    "\n",
    "# abhängige Variable\n",
    "price_category_code = data[\"Price Category Code\"]\n",
    "\n",
    "# Anzahl der verwendeten Qubits festlegen\n",
    "num_qubits = 2\n",
    "\n",
    "# Anzahl der verwendeten Layer festlegen\n",
    "num_layers = 6\n",
    "\n",
    "# weights und bias sind Werte, die von dem NesterovMomentumOptimizer optimiert werden\n",
    "weights = 0.01 * np.random.randn(num_layers, num_qubits, 3, requires_grad=True)\n",
    "bias = np.array(0.0, requires_grad=True)\n",
    "\n",
    "# NesterovMomentumOptimizer mit einer Schrittweite von 0.01 \n",
    "opt = NesterovMomentumOptimizer(0.01)\n",
    "\n",
    "# batch_size wird für die Optimierung benötigt\n",
    "batch_size = 5"
   ]
  },
  {
   "cell_type": "markdown",
   "id": "4e1728a6",
   "metadata": {},
   "source": [
    "# State preparation"
   ]
  },
  {
   "cell_type": "code",
   "execution_count": 44,
   "id": "964747ee",
   "metadata": {},
   "outputs": [],
   "source": [
    "##################################################################################################################\n",
    "#\n",
    "#   get_angles\n",
    "#   @brief   gibt, abhängig vom x parameter winkel zurück, die später für die Visualisierung verwendet werden\n",
    "#\n",
    "##################################################################################################################\n",
    "\n",
    "def get_angles(x):\n",
    "\n",
    "    beta0 = 2 * np.arcsin(np.sqrt(x[1] ** 2) / np.sqrt(x[0] ** 2 + x[1] ** 2 + 1e-12))\n",
    "    beta1 = 2 * np.arcsin(np.sqrt(x[3] ** 2) / np.sqrt(x[2] ** 2 + x[3] ** 2 + 1e-12))\n",
    "    beta2 = 2 * np.arcsin(\n",
    "        np.sqrt(x[2] ** 2 + x[3] ** 2)\n",
    "        / np.sqrt(x[0] ** 2 + x[1] ** 2 + x[2] ** 2 + x[3] ** 2)\n",
    "    )\n",
    "\n",
    "    return np.array([beta2, -beta1 / 2, beta1 / 2, -beta0 / 2, beta0 / 2])\n",
    "\n",
    "##################################################################################################################\n",
    "#\n",
    "#   statepreparation\n",
    "#   @brief   es werden Ry, CNOT und PauliX Gates angewendet. Wird in qnode -> circuit verwendet\n",
    "#            Rotations winkel ist von angles abhängig\n",
    "#\n",
    "##################################################################################################################\n",
    "\n",
    "def statepreparation(angles):\n",
    "    qml.RY(angles[0], wires=0)\n",
    "\n",
    "    qml.CNOT(wires=[0, 1])\n",
    "    qml.RY(angles[1], wires=1)\n",
    "    qml.CNOT(wires=[0, 1])\n",
    "    qml.RY(angles[2], wires=1)\n",
    "\n",
    "    qml.PauliX(wires=0)\n",
    "    qml.CNOT(wires=[0, 1])\n",
    "    qml.RY(angles[3], wires=1)\n",
    "    qml.CNOT(wires=[0, 1])\n",
    "    qml.RY(angles[4], wires=1)\n",
    "    qml.PauliX(wires=0)"
   ]
  },
  {
   "cell_type": "markdown",
   "id": "cb9d2145",
   "metadata": {},
   "source": [
    "# Layer"
   ]
  },
  {
   "cell_type": "code",
   "execution_count": 45,
   "id": "de1ead20",
   "metadata": {},
   "outputs": [],
   "source": [
    "##################################################################################################################\n",
    "#\n",
    "#   layer\n",
    "#   @brief   layer sind elementare circuit Architekturen, die dafür vorbereitet werden, \n",
    "#            um einen variational circuit zu bauen\n",
    "#            Es werden Rotationen um Z -> Y -> Z Achse beider Qubits durchgeführt und anschließend werden beide\n",
    "#            Qubits miteinander verschränkt\n",
    "#\n",
    "##################################################################################################################\n",
    "\n",
    "def layer(W):\n",
    "    qml.Rot(W[0, 0], W[0, 1], W[0, 2], wires=0)\n",
    "    qml.Rot(W[1, 0], W[1, 1], W[1, 2], wires=1)\n",
    "    qml.CNOT(wires=[0, 1])"
   ]
  },
  {
   "cell_type": "markdown",
   "id": "a881d92f",
   "metadata": {},
   "source": [
    "![title](img/r_gates.png) ![title](img/pauli_gates.png) ![title](img/cnot_gate.png) \n",
    "### qml.Rot\n",
    "### R(ϕ,θ,ω)=RZ(ω)RY(θ)RZ(ϕ)\n",
    "![title](img/bloch_sphere.jpg)"
   ]
  },
  {
   "cell_type": "markdown",
   "id": "0502101a",
   "metadata": {},
   "source": [
    "# Variational Classifier"
   ]
  },
  {
   "cell_type": "code",
   "execution_count": 46,
   "id": "09eba98e",
   "metadata": {},
   "outputs": [],
   "source": [
    "##################################################################################################################\n",
    "#\n",
    "#   qnode -> circuit\n",
    "#   @brief   qnode wird als state preparation routine verwendet. Quantum device wird qnode zugewiesen\n",
    "#            circuit beschreibt den Quantenschaltkreis und besteht hier aus mehreren layern\n",
    "#\n",
    "#   @Returnvalue\n",
    "#                Expectation value von dem ersten Qubit, dessen State um 180° Rotation um die Z-Achse rotiert wurde\n",
    "#   links: \n",
    "#         https://pennylane.readthedocs.io/en/stable/code/api/pennylane.PauliZ.html#pennylane.PauliZ\n",
    "#         https://pennylane.readthedocs.io/en/stable/code/api/pennylane.expval.html#pennylane.expval\n",
    "#\n",
    "##################################################################################################################\n",
    "\n",
    "@qml.qnode(dev)\n",
    "def circuit(weights, angles):\n",
    "    statepreparation(angles)\n",
    "\n",
    "    for W in weights:\n",
    "        layer(W)\n",
    "\n",
    "    return qml.expval(qml.PauliZ(0))\n",
    "\n",
    "##################################################################################################################\n",
    "#\n",
    "#   variational_classifier\n",
    "#   @brief   circuit mit addiertem bias wird zurückgegeben\n",
    "#\n",
    "##################################################################################################################\n",
    "\n",
    "def variational_classifier(weights, bias, angles):\n",
    "    return circuit(weights, angles) + bias"
   ]
  },
  {
   "cell_type": "markdown",
   "id": "468b58e9",
   "metadata": {},
   "source": [
    "# Optimierungsbewertungsfunktionen"
   ]
  },
  {
   "cell_type": "code",
   "execution_count": 47,
   "id": "2f06be3a",
   "metadata": {},
   "outputs": [],
   "source": [
    "##################################################################################################################\n",
    "#\n",
    "#   cost\n",
    "#   @brief   die Werte (predictions) werden mit Hilfe des Qnodes ermittelt und dieser wird anschließend genutzt, \n",
    "#            um den mean square error zu ermitteln\n",
    "#\n",
    "##################################################################################################################\n",
    "\n",
    "def cost(weights, bias, features, labels):\n",
    "    predictions = [variational_classifier(weights, bias, f) for f in features]\n",
    "    return square_loss(labels, predictions)\n",
    "\n",
    "##################################################################################################################\n",
    "#\n",
    "#   square_loss\n",
    "#   @brief   der mean square error wird ermittelt\n",
    "#\n",
    "##################################################################################################################\n",
    "\n",
    "def square_loss(labels, predictions):\n",
    "    loss = 0\n",
    "    for l, p in zip(labels, predictions):\n",
    "        loss = loss + (l - p) ** 2\n",
    "\n",
    "    loss = loss / len(labels)\n",
    "    \n",
    "    return loss\n",
    "\n",
    "##################################################################################################################\n",
    "#\n",
    "#   accuracy\n",
    "#   @brief   die vorhergesagten Werte werden mit den tatsächlichen Werten verglichen und anschließend die \n",
    "#            Genauigkeit der v\n",
    "#\n",
    "##################################################################################################################\n",
    "\n",
    "def accuracy(labels, predictions):\n",
    "    loss = 0\n",
    "    for l, p in zip(labels, predictions):\n",
    "        if abs(l - p) < 1e-5:\n",
    "            loss = loss + 1\n",
    "    loss = loss / len(labels)\n",
    "\n",
    "    return loss"
   ]
  },
  {
   "cell_type": "markdown",
   "id": "aee65825",
   "metadata": {},
   "source": [
    "# Datensatz vorbereiten"
   ]
  },
  {
   "cell_type": "code",
   "execution_count": 48,
   "id": "4fc8efae",
   "metadata": {},
   "outputs": [
    {
     "name": "stdout",
     "output_type": "stream",
     "text": [
      "First X sample (padded)    : [2.0050e+03 2.7271e+04 3.0000e-01 0.0000e+00]\n",
      "First X sample (normalized): [7.33234194e-02 9.97308215e-01 1.09710852e-05 0.00000000e+00]\n",
      "First features sample      : [ 2.19421704e-05 -0.00000000e+00  0.00000000e+00 -1.49740705e+00\n",
      "  1.49740705e+00]\n"
     ]
    }
   ],
   "source": [
    "# unabhängige Variablen\n",
    "X = []\n",
    "# abhängige Variable\n",
    "Y = []\n",
    "\n",
    "# über alle Datensätze gehen und year, passenger_count in ein array zusammenfügen und dann dem array X angehängt \n",
    "for i in range(len(data)):\n",
    "    x = [year[i], passenger_count[i]]\n",
    "    X.append(x)\n",
    "    \n",
    "    # abhängige Variable für die Klassifizierung. Wird in 1 und -1 codiert\n",
    "    if price_category_code[i] == \"Other\":\n",
    "        Y.append(1)\n",
    "    else:\n",
    "        Y.append(-1)\n",
    "\n",
    "# für die spätere Bearbeitung in ein numpy array umwandeln\n",
    "X = np.array(X)\n",
    "Y = np.array(Y)\n",
    "\n",
    "# pad den Vektor zu der Größe 2^2 mit konstantem Wert\n",
    "padding = 0.3 * np.ones((len(X), 1))\n",
    "X_pad = np.c_[np.c_[X, padding], np.zeros((len(X), 1))]\n",
    "print(\"First X sample (padded)    :\", X_pad[0])\n",
    "\n",
    "# Daten normalisieren\n",
    "normalization = np.sqrt(np.sum(X_pad ** 2, -1))\n",
    "X_norm = (X_pad.T / normalization).T\n",
    "print(\"First X sample (normalized):\", X_norm[0])\n",
    "\n",
    "# Winkel für die state preparation sind neue features\n",
    "features = np.array([get_angles(x) for x in X_norm], requires_grad=False)\n",
    "print(\"First features sample      :\", features[0])"
   ]
  },
  {
   "cell_type": "markdown",
   "id": "9e8f4863",
   "metadata": {},
   "source": [
    "# Daten visualisieren"
   ]
  },
  {
   "cell_type": "code",
   "execution_count": 49,
   "id": "bb6ba5ce",
   "metadata": {},
   "outputs": [
    {
     "data": {
      "image/png": "[encoded data removed]",
      "text/plain": [
       "<Figure size 432x288 with 1 Axes>"
      ]
     },
     "metadata": {},
     "output_type": "display_data"
    },
    {
     "data": {
      "image/png": "[encoded data removed]",
      "text/plain": [
       "<Figure size 432x288 with 1 Axes>"
      ]
     },
     "metadata": {},
     "output_type": "display_data"
    },
    {
     "data": {
      "image/png": "[encoded data removed]",
      "text/plain": [
       "<Figure size 432x288 with 1 Axes>"
      ]
     },
     "metadata": {},
     "output_type": "display_data"
    }
   ],
   "source": [
    "plt.figure()\n",
    "plt.scatter(X[:, 0][Y == 1], X[:, 1][Y == 1], c=\"b\", marker=\"o\", edgecolors=\"k\")\n",
    "plt.scatter(X[:, 0][Y == -1], X[:, 1][Y == -1], c=\"r\", marker=\"o\", edgecolors=\"k\")\n",
    "plt.title(\"Original data\")\n",
    "plt.show()\n",
    "\n",
    "plt.figure()\n",
    "dim1 = 0\n",
    "dim2 = 1\n",
    "plt.scatter(\n",
    "    X_norm[:, dim1][Y == 1], X_norm[:, dim2][Y == 1], c=\"b\", marker=\"o\", edgecolors=\"k\"\n",
    ")\n",
    "plt.scatter(\n",
    "    X_norm[:, dim1][Y == -1], X_norm[:, dim2][Y == -1], c=\"r\", marker=\"o\", edgecolors=\"k\"\n",
    ")\n",
    "plt.title(\"Padded and normalised data (dims {} and {})\".format(dim1, dim2))\n",
    "plt.show()\n",
    "\n",
    "plt.figure()\n",
    "dim1 = 0\n",
    "dim2 = 3\n",
    "plt.scatter(\n",
    "    features[:, dim1][Y == 1], features[:, dim2][Y == 1], c=\"b\", marker=\"o\", edgecolors=\"k\"\n",
    ")\n",
    "plt.scatter(\n",
    "    features[:, dim1][Y == -1], features[:, dim2][Y == -1], c=\"r\", marker=\"o\", edgecolors=\"k\"\n",
    ")\n",
    "plt.title(\"Feature vectors (dims {} and {})\".format(dim1, dim2))\n",
    "plt.show()"
   ]
  },
  {
   "cell_type": "markdown",
   "id": "ede3157a",
   "metadata": {},
   "source": [
    "# Optimierung"
   ]
  },
  {
   "cell_type": "code",
   "execution_count": 50,
   "id": "4dd546ff",
   "metadata": {},
   "outputs": [],
   "source": [
    "np.random.seed(0)\n",
    "num_data = len(Y)\n",
    "num_train = int(0.75 * num_data)\n",
    "index = np.random.permutation(range(num_data))\n",
    "feats_train = features[index[:num_train]]\n",
    "Y_train = Y[index[:num_train]]\n",
    "feats_val = features[index[num_train:]]\n",
    "Y_val = Y[index[num_train:]]\n",
    "\n",
    "# Wird später für die Visualisierung verwendet\n",
    "X_train = X[index[:num_train]]\n",
    "X_val = X[index[num_train:]]"
   ]
  },
  {
   "cell_type": "code",
   "execution_count": null,
   "id": "d89d6ff4",
   "metadata": {},
   "outputs": [
    {
     "name": "stdout",
     "output_type": "stream",
     "text": [
      "Iter:     1 | Cost: 0.5117302 | Acc train: 0.8696579 | Acc validation: 0.8792644 \n",
      "Iter:     2 | Cost: 0.5077046 | Acc train: 0.8696579 | Acc validation: 0.8792644 \n"
     ]
    }
   ],
   "source": [
    "for it in range(60):\n",
    "\n",
    "    # weights mit optimizer step size anpassen\n",
    "    batch_index = np.random.randint(0, num_train, (batch_size,))\n",
    "    feats_train_batch = feats_train[batch_index]\n",
    "    Y_train_batch = Y_train[batch_index]\n",
    "    weights, bias, _, _ = opt.step(cost, weights, bias, feats_train_batch, Y_train_batch)\n",
    "\n",
    "    # predicitons für den trainings und validation set berechnen\n",
    "    predictions_train = [np.sign(variational_classifier(weights, bias, f)) for f in feats_train]\n",
    "    predictions_val = [np.sign(variational_classifier(weights, bias, f)) for f in feats_val]\n",
    "\n",
    "    # Genauigkeit für den trainings und validation set berechnen\n",
    "    acc_train = accuracy(Y_train, predictions_train)\n",
    "    acc_val = accuracy(Y_val, predictions_val)\n",
    "\n",
    "    print(\n",
    "        \"Iter: {:5d} | Cost: {:0.7f} | Acc train: {:0.7f} | Acc validation: {:0.7f} \"\n",
    "        \"\".format(it + 1, cost(weights, bias, features, Y), acc_train, acc_val)\n",
    "    )"
   ]
  },
  {
   "cell_type": "markdown",
   "id": "07a8d5b8",
   "metadata": {},
   "source": [
    "# finale Daten visualisieren"
   ]
  },
  {
   "cell_type": "code",
   "execution_count": null,
   "id": "f0cb09fa",
   "metadata": {},
   "outputs": [],
   "source": [
    "plt.figure()\n",
    "cm = plt.cm.RdBu\n",
    "\n",
    "xx, yy = np.meshgrid(np.linspace(0.0, 1.5, 20), np.linspace(0.0, 1.5, 20))\n",
    "X_grid = [np.array([x, y]) for x, y in zip(xx.flatten(), yy.flatten())]\n",
    "\n",
    "padding = 0.3 * np.ones((len(X_grid), 1))\n",
    "X_grid = np.c_[np.c_[X_grid, padding], np.zeros((len(X_grid), 1))]  # pad each input\n",
    "normalization = np.sqrt(np.sum(X_grid ** 2, -1))\n",
    "X_grid = (X_grid.T / normalization).T  # normalize each input\n",
    "features_grid = np.array(\n",
    "    [get_angles(x) for x in X_grid]\n",
    ")  \n",
    "predictions_grid = [variational_classifier(weights, bias, f) for f in features_grid]\n",
    "Z = np.reshape(predictions_grid, xx.shape)\n",
    "\n",
    "cnt = plt.contourf(\n",
    "    xx, yy, Z, levels=np.arange(-1, 1.1, 0.1), cmap=cm, alpha=0.8, extend=\"both\"\n",
    ")\n",
    "plt.contour(\n",
    "    xx, yy, Z, levels=[0.0], colors=(\"black\",), linestyles=(\"--\",), linewidths=(0.8,)\n",
    ")\n",
    "plt.colorbar(cnt, ticks=[-1, 0, 1])\n",
    "\n",
    "plt.scatter(\n",
    "    X_train[:, 0][Y_train == 1],\n",
    "    X_train[:, 1][Y_train == 1],\n",
    "    c=\"b\",\n",
    "    marker=\"o\",\n",
    "    edgecolors=\"k\",\n",
    "    label=\"class 1 train\",\n",
    ")\n",
    "plt.scatter(\n",
    "    X_val[:, 0][Y_val == 1],\n",
    "    X_val[:, 1][Y_val == 1],\n",
    "    c=\"b\",\n",
    "    marker=\"^\",\n",
    "    edgecolors=\"k\",\n",
    "    label=\"class 1 validation\",\n",
    ")\n",
    "plt.scatter(\n",
    "    X_train[:, 0][Y_train == -1],\n",
    "    X_train[:, 1][Y_train == -1],\n",
    "    c=\"r\",\n",
    "    marker=\"o\",\n",
    "    edgecolors=\"k\",\n",
    "    label=\"class -1 train\",\n",
    ")\n",
    "plt.scatter(\n",
    "    X_val[:, 0][Y_val == -1],\n",
    "    X_val[:, 1][Y_val == -1],\n",
    "    c=\"r\",\n",
    "    marker=\"^\",\n",
    "    edgecolors=\"k\",\n",
    "    label=\"class -1 validation\",\n",
    ")\n",
    "\n",
    "plt.legend()\n",
    "plt.show()"
   ]
  },
  {
   "cell_type": "code",
   "execution_count": null,
   "id": "3bab5b6c",
   "metadata": {},
   "outputs": [],
   "source": []
  }
 ],
 "metadata": {
  "kernelspec": {
   "display_name": "Python 3 (Spyder)",
   "language": "python3",
   "name": "python3"
  },
  "language_info": {
   "codemirror_mode": {
    "name": "ipython",
    "version": 3
   },
   "file_extension": ".py",
   "mimetype": "text/x-python",
   "name": "python",
   "nbconvert_exporter": "python",
   "pygments_lexer": "ipython3",
   "version": "3.8.12"
  }
 },
 "nbformat": 4,
 "nbformat_minor": 5
}
