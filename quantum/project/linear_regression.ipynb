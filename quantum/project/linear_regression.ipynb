{
 "cells": [
  {
   "cell_type": "code",
   "execution_count": 1,
   "id": "7b2a2994",
   "metadata": {},
   "outputs": [],
   "source": [
    "##################################################################################################################\n",
    "# \n",
    "#   Linear Regression für einen Datensatz und mit einem GradientDescentOptimizer von pennylane\n",
    "#\n",
    "#   Author: Philip Bramwell\n",
    "#   Datum: 12 November\n",
    "#   Version: 1.0.0\n",
    "# \n",
    "#   Datensatz: real estate\n",
    "#   link: https://www.kaggle.com/quantbruce/real-estate-price-prediction\n",
    "#\n",
    "#   LIB:\n",
    "#       pennylane: https://pennylane.ai\n",
    "#       pandas: https://pandas.pydata.org\n",
    "#       matplotlib: https://matplotlib.org\n",
    "#       numpy: https://pennylane.readthedocs.io/en/stable/introduction/interfaces/numpy.html\n",
    "#\n",
    "#   Ziel: \n",
    "#         * Einen linearen Zusammenhang zwischen unabhängigen Variablen und einer abhängigen Variablen \n",
    "#           eines Datensatzes zu finden\n",
    "#         * linearen Zusammenhang visuell darstellen\n",
    "#\n",
    "#   Github: https://github.com/philBram/quantum\n",
    "#   Documents: https://discuss.pennylane.ai/t/performing-linear-or-non-linear-regression-with-pennylane/31\n",
    "#\n",
    "#   Index: \n",
    "#         1. benötigte LIBs importieren\n",
    "#         2. Datensatz laden\n",
    "#         3. Variablen definieren\n",
    "#         4. Funktionen definieren\n",
    "#         5. Daten in einem Zwischenschritt visualisieren, um eine eventuelle lineare Korrelation festzustellen\n",
    "#         6. Daten transformieren, um einen besseren linearen Zusammenhang herzustellen\n",
    "#         7. Steigung und Ordinatenabschnitt der Regressionsgeraden optimieren\n",
    "#         8. finale Daten und die optimierte Regressionsgerade visualisieren \n",
    "#\n",
    "##################################################################################################################"
   ]
  },
  {
   "cell_type": "markdown",
   "id": "534e3ceb",
   "metadata": {},
   "source": [
    "# Imports"
   ]
  },
  {
   "cell_type": "code",
   "execution_count": 2,
   "id": "414304e4",
   "metadata": {},
   "outputs": [],
   "source": [
    "import pennylane as qml\n",
    "import pandas as pd\n",
    "import matplotlib.pyplot as plt\n",
    "from pennylane import numpy as np"
   ]
  },
  {
   "cell_type": "markdown",
   "id": "0f6c4d06",
   "metadata": {},
   "source": [
    "# Datensatz"
   ]
  },
  {
   "cell_type": "code",
   "execution_count": 3,
   "id": "e1e1fdab",
   "metadata": {},
   "outputs": [],
   "source": [
    "##################################################################################################################\n",
    "#\n",
    "#    Datensatz real_estate über pandas einlesen \n",
    "#    Link: https://pandas.pydata.org/pandas-docs/stable/reference/api/pandas.read_csv.html\n",
    "#\n",
    "##################################################################################################################\n",
    "\n",
    "dataset_csv = pd.read_csv(\"real_estate.csv\")"
   ]
  },
  {
   "cell_type": "markdown",
   "id": "476e3bc8",
   "metadata": {},
   "source": [
    "# Variablen"
   ]
  },
  {
   "cell_type": "code",
   "execution_count": 4,
   "id": "fb89dac2",
   "metadata": {},
   "outputs": [],
   "source": [
    "##################################################################################################################\n",
    "#\n",
    "#    unabhängige Variablen, die auf lineare Korrelation getestet werden sollen\n",
    "#    mit .values erstellt man ein numpy array für die jeweils angegebene Spalte des Datensatzes\n",
    "#\n",
    "#    @Param:\n",
    "#            X2 house age: Alter des Hause [ float ]\n",
    "#            X3 distance to the nearest MRT station: Entfernung zu der nächsten MRT Station [ float ]\n",
    "#            X4 number of convenience stores: Anzahl der sich in der nähe befindlichen Supermärkte [ int ]\n",
    "#\n",
    "##################################################################################################################\n",
    "\n",
    "house_age = dataset_csv[\"X2 house age\"].values\n",
    "distance_mrt_station = dataset_csv[\"X3 distance to the nearest MRT station\"].values\n",
    "number_convenience_stores = dataset_csv[\"X4 number of convenience stores\"].values\n",
    "\n",
    "##################################################################################################################\n",
    "#\n",
    "#    abhängige Variable für die lineare Regression\n",
    "#    \n",
    "#    @Param:\n",
    "#            Y house price of unit area: Hausepreis [ float ]\n",
    "#            \n",
    "##################################################################################################################\n",
    "\n",
    "house_prices = dataset_csv[\"Y house price of unit area\"].values\n",
    "\n",
    "##################################################################################################################\n",
    "#\n",
    "#    array mit Steigung an Position 0 und Ordinatenabschnitt an Position 1\n",
    "#    Diese Werte werden für die Optimierung der Regressionsgeraden verwendet\n",
    "#\n",
    "##################################################################################################################\n",
    "\n",
    "funktions_gewichte = [0.0, 0.0]\n",
    "\n",
    "##################################################################################################################\n",
    "#\n",
    "#    GradientDescentOptimizer mit einer Schrittweite von 0.01 ist für die Optimierung und Anpassung\n",
    "#    der funktions_gewichte zuständig\n",
    "#    Link: https://pennylane.readthedocs.io/en/stable/code/api/pennylane.GradientDescentOptimizer.html \n",
    "#\n",
    "##################################################################################################################\n",
    "\n",
    "optimization = qml.GradientDescentOptimizer(0.01)\n",
    "\n",
    "# Anzahl der Schritte, für die die Optimierung durchgeführt wird\n",
    "\n",
    "optimization_steps = 10000"
   ]
  },
  {
   "cell_type": "markdown",
   "id": "a571d30f",
   "metadata": {},
   "source": [
    "# Funktionen"
   ]
  },
  {
   "cell_type": "code",
   "execution_count": 5,
   "id": "1c63d470",
   "metadata": {},
   "outputs": [],
   "source": [
    "##################################################################################################################\n",
    "#\n",
    "#   @name   house_prices_vorhersage\n",
    "#   @brief   berechnet den y-wert der Regressionsgeraden\n",
    "#   @Param   \n",
    "#          funktions_gewichte: Steigung und Ordinatenabschnitt für die Regressionsgerade\n",
    "#\n",
    "#   @Returnvalue\n",
    "#          ermittelter y-wert der linearen Regression\n",
    "#\n",
    "##################################################################################################################\n",
    "\n",
    "def house_prices_vorhersage(funktions_gewichte):\n",
    "    return funktions_gewichte[0] * distance_mrt_station + funktions_gewichte[1]\n",
    "\n",
    "##################################################################################################################\n",
    "#\n",
    "#   @ame   kosten_funktion\n",
    "#   @brief   berechnet die mittlere quadratische Abweichung in Abhängigkeit zu den ermittelten \n",
    "#            y-Werten und den tatsächlichen Werten\n",
    "#   @Param   \n",
    "#          funktions_gewichte: Steigung und Ordinatenabschnitt für die Regressionsgerade\n",
    "#\n",
    "#   @Returnvalue\n",
    "#          ermittelter mean square error\n",
    "#\n",
    "##################################################################################################################\n",
    "\n",
    "def kosten_funktion(funktions_gewichte):\n",
    "    house_prices_vorhersage_tmp = house_prices_vorhersage(funktions_gewichte)\n",
    "    mean_square_error = np.mean((house_prices - house_prices_vorhersage_tmp) ** 2)\n",
    "    return mean_square_error\n",
    "\n",
    "##################################################################################################################\n",
    "#\n",
    "#   @name   korrelationskoeffizient\n",
    "#   @brief   berechnet den Korrelationskoeffizient für die unabhängigen und abhängigen Werte, \n",
    "#            für die jeweiligen Spalten des Datensatzes\n",
    "#\n",
    "#   @Param\n",
    "#          x: Werte für die unabhängige Variable\n",
    "#          y: Werte für die abhängige Variablen\n",
    "#\n",
    "#   @Returnvalue\n",
    "#          ermittelter Korrelationskoeffizient\n",
    "#\n",
    "##################################################################################################################\n",
    "\n",
    "def korrelationskoeffizient(x, y):\n",
    "    sum_x_y = np.sum((x - np.mean(x)) * (y - np.mean(y)))\n",
    "    sum_x_pow = np.sum(np.power(x - np.mean(x), 2))\n",
    "    sum_y_pow = np.sum(np.power(y - np.mean(y), 2))\n",
    "    return sum_x_y / (np.sqrt(sum_x_pow) * np.sqrt(sum_y_pow))"
   ]
  },
  {
   "cell_type": "markdown",
   "id": "9edfc5bf",
   "metadata": {},
   "source": [
    "![title](img/korrelationskoeffizient.jpg)"
   ]
  },
  {
   "cell_type": "markdown",
   "id": "1dc2a473",
   "metadata": {},
   "source": [
    "# Daten für eine Zwischenbewertung visualisieren"
   ]
  },
  {
   "cell_type": "code",
   "execution_count": 6,
   "id": "f84f1891",
   "metadata": {},
   "outputs": [
    {
     "name": "stdout",
     "output_type": "stream",
     "text": [
      "-0.21056704627721687\n"
     ]
    },
    {
     "data": {
      "image/png": "[encoded data removed]",
      "text/plain": [
       "<Figure size 432x288 with 1 Axes>"
      ]
     },
     "metadata": {
      "needs_background": "light"
     },
     "output_type": "display_data"
    }
   ],
   "source": [
    "# Daten für house_age und house_prices visuell ausgeben\n",
    "\n",
    "plt.scatter(house_age, house_prices)\n",
    "plt.xlabel(\"X2 house age\")\n",
    "plt.ylabel(\"price\")\n",
    "\n",
    "# Korrelationskoeffizient für house_age und house_prices ausgeben\n",
    "\n",
    "print(korrelationskoeffizient(house_age, house_prices))"
   ]
  },
  {
   "cell_type": "code",
   "execution_count": 7,
   "id": "f4e9e7f4",
   "metadata": {},
   "outputs": [
    {
     "name": "stdout",
     "output_type": "stream",
     "text": [
      "-0.673612855368918\n"
     ]
    },
    {
     "data": {
      "image/png": "[encoded data removed]",
      "text/plain": [
       "<Figure size 432x288 with 1 Axes>"
      ]
     },
     "metadata": {
      "needs_background": "light"
     },
     "output_type": "display_data"
    }
   ],
   "source": [
    "# Daten für distance_mrt_station und house_prices visuell ausgeben\n",
    "\n",
    "plt.scatter(distance_mrt_station, house_prices)\n",
    "plt.xlabel(\"X3 distance to the nearest MRT station\")\n",
    "plt.ylabel(\"price\")\n",
    "\n",
    "# Korrelationskoeffizient für distance_mrt_station und house_prices ausgeben\n",
    "\n",
    "print(korrelationskoeffizient(distance_mrt_station, house_prices))"
   ]
  },
  {
   "cell_type": "code",
   "execution_count": 8,
   "id": "783eb36f",
   "metadata": {},
   "outputs": [
    {
     "name": "stdout",
     "output_type": "stream",
     "text": [
      "0.5710049111111484\n"
     ]
    },
    {
     "data": {
      "image/png": "[encoded data removed]",
      "text/plain": [
       "<Figure size 432x288 with 1 Axes>"
      ]
     },
     "metadata": {
      "needs_background": "light"
     },
     "output_type": "display_data"
    }
   ],
   "source": [
    "# Daten für number_convenience_stores und house_prices visuell ausgeben\n",
    "\n",
    "plt.scatter(number_convenience_stores, house_prices)\n",
    "plt.xlabel(\"X4 number of convenience stores\")\n",
    "plt.ylabel(\"price\")\n",
    "\n",
    "# Korrelationskoeffizient für number_convenience_stores und house_prices ausgeben\n",
    "\n",
    "print(korrelationskoeffizient(number_convenience_stores, house_prices))"
   ]
  },
  {
   "cell_type": "markdown",
   "id": "b7906f21",
   "metadata": {},
   "source": [
    "# Transformation der Daten"
   ]
  },
  {
   "cell_type": "code",
   "execution_count": 9,
   "id": "7bf38590",
   "metadata": {},
   "outputs": [
    {
     "name": "stdout",
     "output_type": "stream",
     "text": [
      "-0.7608650376741359\n"
     ]
    },
    {
     "data": {
      "image/png": "[encoded data removed]",
      "text/plain": [
       "<Figure size 432x288 with 1 Axes>"
      ]
     },
     "metadata": {
      "needs_background": "light"
     },
     "output_type": "display_data"
    }
   ],
   "source": [
    "# Korrelationskoeffizient kann durch eine Transformation verbessert werden\n",
    "\n",
    "distance_mrt_station = np.log(distance_mrt_station)\n",
    "house_prices = np.log(house_prices)\n",
    "\n",
    "# Daten für und distance_mrt_station visuell ausgeben\n",
    "\n",
    "plt.scatter(distance_mrt_station, house_prices)\n",
    "plt.xlabel(\"X3 distance to the nearest MRT station\")\n",
    "plt.ylabel(\"price\")\n",
    "\n",
    "# Korrelationskoeffizient für distance_mrt_station und house_prices ausgeben\n",
    "\n",
    "print(korrelationskoeffizient(distance_mrt_station, house_prices))"
   ]
  },
  {
   "cell_type": "markdown",
   "id": "45244c9f",
   "metadata": {},
   "source": [
    "# Optimierung"
   ]
  },
  {
   "cell_type": "code",
   "execution_count": 10,
   "id": "ac056e4e",
   "metadata": {},
   "outputs": [
    {
     "name": "stdout",
     "output_type": "stream",
     "text": [
      "1.0948718423187995\n",
      "0.14303265474420865"
     ]
    },
    {
     "name": "stderr",
     "output_type": "stream",
     "text": [
      "/home/alllowd/anaconda3/envs/quantum/lib/python3.8/site-packages/pennylane/_grad.py:95: UserWarning: Starting with PennyLane v0.20.0, when using Autograd, inputs have to explicitly specify requires_grad=True (or the argnum argument must be passed) in order for trainable parameters to be identified.\n",
      "  warnings.warn(\n"
     ]
    },
    {
     "name": "stdout",
     "output_type": "stream",
     "text": [
      "\n",
      "0.07237536278075365\n",
      "0.06545595220047114\n",
      "0.06477834000436143\n"
     ]
    }
   ],
   "source": [
    "##################################################################################################################\n",
    "#\n",
    "#   Abhängig von der Anzahl optimization_steps werden die funktions_gewichte angepasst, die die Steigung und\n",
    "#   den Ordinatenabschnitt für die Regressionsgerade bestimmen. Diese Optimierung wird über die Schrittweite,\n",
    "#   die bei der Initialisierung von GradientDescentOptimizer festgelegt wurde, durchgeführt.\n",
    "#\n",
    "#   Alle 2000 Optimierungsschritte wird der momentane Kostenwert ausgegeben.   \n",
    "#\n",
    "##################################################################################################################\n",
    "\n",
    "for step in range(optimization_steps):\n",
    "    funktions_gewichte = optimization.step(kosten_funktion, funktions_gewichte)\n",
    "    if step % 2000 == 0:\n",
    "        print(kosten_funktion(funktions_gewichte))"
   ]
  },
  {
   "cell_type": "markdown",
   "id": "117a10fc",
   "metadata": {},
   "source": [
    "# finale Daten visualisieren"
   ]
  },
  {
   "cell_type": "code",
   "execution_count": 11,
   "id": "d3f4e627",
   "metadata": {},
   "outputs": [
    {
     "name": "stdout",
     "output_type": "stream",
     "text": [
      "y = -0.26432557189571526 * x + 5.255735291455927\n"
     ]
    },
    {
     "data": {
      "image/png": "[encoded data removed]",
      "text/plain": [
       "<Figure size 432x288 with 1 Axes>"
      ]
     },
     "metadata": {
      "needs_background": "light"
     },
     "output_type": "display_data"
    }
   ],
   "source": [
    "# Daten für und distance_mrt_station visuell ausgeben\n",
    "\n",
    "plt.scatter(distance_mrt_station, house_prices)\n",
    "plt.xlabel(\"X3 distance to the nearest MRT station\")\n",
    "plt.ylabel(\"price\")\n",
    "plt.plot(distance_mrt_station, house_prices_vorhersage(funktions_gewichte),'r')\n",
    "\n",
    "# Funktion der ermittelten Regressionsgeraden\n",
    "\n",
    "print(f\"y = {funktions_gewichte[0]} * x + {funktions_gewichte[1]}\")"
   ]
  },
  {
   "cell_type": "code",
   "execution_count": null,
   "id": "a42d2dae",
   "metadata": {},
   "outputs": [],
   "source": []
  }
 ],
 "metadata": {
  "kernelspec": {
   "display_name": "quantum_kernel",
   "language": "python",
   "name": "quantum_kernel"
  },
  "language_info": {
   "codemirror_mode": {
    "name": "ipython",
    "version": 3
   },
   "file_extension": ".py",
   "mimetype": "text/x-python",
   "name": "python",
   "nbconvert_exporter": "python",
   "pygments_lexer": "ipython3",
   "version": "3.8.12"
  }
 },
 "nbformat": 4,
 "nbformat_minor": 5
}
