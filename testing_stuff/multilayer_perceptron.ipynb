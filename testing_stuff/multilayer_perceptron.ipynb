{
 "cells": [
  {
   "cell_type": "code",
   "execution_count": 3,
   "id": "a8cec4d6",
   "metadata": {},
   "outputs": [],
   "source": [
    "import numpy as np\n",
    "import matplotlib.pyplot as plt"
   ]
  },
  {
   "cell_type": "code",
   "execution_count": 8,
   "id": "ff51e732",
   "metadata": {},
   "outputs": [],
   "source": [
    "def heaviside(x):\n",
    "    return 1 if x >= 0 else 0\n",
    "\n",
    "class Perceptron:\n",
    "    def __init__(self, *weights):\n",
    "        self.weights = np.array(weights)\n",
    "        \n",
    "    def activate(self, *input):\n",
    "        input = np.hstack(([1], input))\n",
    "        return heaviside(np.sum(self.weights * input))"
   ]
  },
  {
   "cell_type": "code",
   "execution_count": 9,
   "id": "c8bb9835",
   "metadata": {},
   "outputs": [],
   "source": [
    "p1 = p3 = Perceptron(-1, 1)\n",
    "p2 = Perceptron(-2, 1, 1)\n",
    "q = Perceptron(-1, 1, -2, 1)"
   ]
  },
  {
   "cell_type": "code",
   "execution_count": 10,
   "id": "b6b5e6ce",
   "metadata": {},
   "outputs": [],
   "source": [
    "def xor(x, y):\n",
    "    return q.activate(p1.activate(x), p2.activate(x, y), p3.activate(y))"
   ]
  },
  {
   "cell_type": "code",
   "execution_count": 11,
   "id": "d531db8b",
   "metadata": {},
   "outputs": [
    {
     "data": {
      "text/plain": [
       "(0, 1, 1, 0)"
      ]
     },
     "execution_count": 11,
     "metadata": {},
     "output_type": "execute_result"
    }
   ],
   "source": [
    "xor(0, 0), xor(0, 1), xor(1, 0), xor(1, 1)"
   ]
  },
  {
   "cell_type": "code",
   "execution_count": null,
   "id": "afb97a11",
   "metadata": {},
   "outputs": [],
   "source": []
  }
 ],
 "metadata": {
  "kernelspec": {
   "display_name": "Python 3 (Spyder)",
   "language": "python3",
   "name": "python3"
  },
  "language_info": {
   "codemirror_mode": {
    "name": "ipython",
    "version": 3
   },
   "file_extension": ".py",
   "mimetype": "text/x-python",
   "name": "python",
   "nbconvert_exporter": "python",
   "pygments_lexer": "ipython3",
   "version": "3.8.12"
  }
 },
 "nbformat": 4,
 "nbformat_minor": 5
}
