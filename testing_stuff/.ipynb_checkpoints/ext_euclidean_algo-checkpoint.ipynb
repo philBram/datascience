{
 "cells": [
  {
   "cell_type": "code",
   "execution_count": 251,
   "id": "4dfe66ec",
   "metadata": {},
   "outputs": [],
   "source": [
    "import numpy as np"
   ]
  },
  {
   "cell_type": "code",
   "execution_count": 262,
   "id": "3721639d",
   "metadata": {},
   "outputs": [],
   "source": [
    "a = 147\n",
    "b = 84\n",
    "x = [1, 0]"
   ]
  },
  {
   "cell_type": "code",
   "execution_count": 263,
   "id": "6bc386b1",
   "metadata": {},
   "outputs": [],
   "source": [
    "def ggt(a, b, x):\n",
    "    while b != 0:\n",
    "        t = b\n",
    "        b = a % b\n",
    "        a = t\n",
    "    return a"
   ]
  },
  {
   "cell_type": "code",
   "execution_count": 264,
   "id": "bb71672f",
   "metadata": {},
   "outputs": [
    {
     "data": {
      "text/plain": [
       "21"
      ]
     },
     "execution_count": 264,
     "metadata": {},
     "output_type": "execute_result"
    }
   ],
   "source": [
    "ggt(a, b, x)"
   ]
  },
  {
   "cell_type": "code",
   "execution_count": 265,
   "id": "c2f41102",
   "metadata": {},
   "outputs": [],
   "source": [
    "def ggtRec(a, b, x):\n",
    "    if a < b:\n",
    "        t = b\n",
    "        b = a \n",
    "        a = t\n",
    "\n",
    "    return ggtRecHelp(a, b, x)\n",
    "    \n",
    "def ggtRecHelp(a, b, x):\n",
    "    y = x\n",
    "    \n",
    "    if b == 0:\n",
    "        return a, y[1]\n",
    "    \n",
    "    if a % b != 0:\n",
    "        q = a // b\n",
    "        y[1] = y[1] - q * y[0]\n",
    "    \n",
    "    return ggtRecHelp(b, a % b, x)"
   ]
  },
  {
   "cell_type": "code",
   "execution_count": 266,
   "id": "611f10c0",
   "metadata": {},
   "outputs": [
    {
     "data": {
      "text/plain": [
       "(21, -2)"
      ]
     },
     "execution_count": 266,
     "metadata": {},
     "output_type": "execute_result"
    }
   ],
   "source": [
    "ggtRec(a, b, x)"
   ]
  },
  {
   "cell_type": "code",
   "execution_count": null,
   "id": "a78fbb5f",
   "metadata": {},
   "outputs": [],
   "source": []
  }
 ],
 "metadata": {
  "kernelspec": {
   "display_name": "Python 3 (Spyder)",
   "language": "python3",
   "name": "python3"
  },
  "language_info": {
   "codemirror_mode": {
    "name": "ipython",
    "version": 3
   },
   "file_extension": ".py",
   "mimetype": "text/x-python",
   "name": "python",
   "nbconvert_exporter": "python",
   "pygments_lexer": "ipython3",
   "version": "3.8.12"
  }
 },
 "nbformat": 4,
 "nbformat_minor": 5
}
