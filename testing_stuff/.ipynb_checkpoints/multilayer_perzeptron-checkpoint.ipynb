{
 "cells": [
  {
   "cell_type": "code",
   "execution_count": 1,
   "id": "1114a152",
   "metadata": {},
   "outputs": [],
   "source": [
    "import numpy as np\n",
    "import matplotlib.pyplot as plt"
   ]
  },
  {
   "cell_type": "code",
   "execution_count": 41,
   "id": "9abf34db",
   "metadata": {},
   "outputs": [],
   "source": [
    "def hiviside(x):\n",
    "    return 1 if x > 0 else 0\n",
    "\n",
    "class Perceptron:\n",
    "    def __init__(self, *weights):\n",
    "        self.weights = np.array(weights)\n",
    "        \n",
    "    def activate(self, *input):\n",
    "        input = np.hstack(([1], input))\n",
    "        return hiviside(np.sum(input * self.weights))"
   ]
  },
  {
   "cell_type": "code",
   "execution_count": null,
   "id": "cf86a068",
   "metadata": {},
   "outputs": [],
   "source": [
    "p = Perceptron"
   ]
  }
 ],
 "metadata": {
  "kernelspec": {
   "display_name": "Python 3 (Spyder)",
   "language": "python3",
   "name": "python3"
  },
  "language_info": {
   "codemirror_mode": {
    "name": "ipython",
    "version": 3
   },
   "file_extension": ".py",
   "mimetype": "text/x-python",
   "name": "python",
   "nbconvert_exporter": "python",
   "pygments_lexer": "ipython3",
   "version": "3.8.12"
  }
 },
 "nbformat": 4,
 "nbformat_minor": 5
}
