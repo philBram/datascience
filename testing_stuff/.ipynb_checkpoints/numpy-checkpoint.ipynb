{
 "cells": [
  {
   "cell_type": "code",
   "execution_count": 1,
   "id": "676bd8dc",
   "metadata": {},
   "outputs": [],
   "source": [
    "import numpy as np\n",
    "import matplotlib.pyplot as plt\n",
    "import pandas as pd\n",
    "from numpy import random\n",
    "from numpy import genfromtxt\n",
    "from numpy import linalg as la"
   ]
  },
  {
   "cell_type": "markdown",
   "id": "9cfbc482",
   "metadata": {},
   "source": [
    "## Creating Array"
   ]
  },
  {
   "cell_type": "code",
   "execution_count": 428,
   "id": "b692061e",
   "metadata": {},
   "outputs": [
    {
     "name": "stdout",
     "output_type": "stream",
     "text": [
      "[1 3 5 7 9]\n",
      "[ 0.  12.5 25.  37.5 50. ]\n",
      "[[0. 0.]\n",
      " [0. 0.]\n",
      " [0. 0.]\n",
      " [0. 0.]\n",
      " [0. 0.]\n",
      " [0. 0.]\n",
      " [0. 0.]\n",
      " [0. 0.]\n",
      " [0. 0.]\n",
      " [0. 0.]]\n",
      "[1. 1.]\n",
      "9\n",
      "[[1 2 3]\n",
      " [4 5 6]\n",
      " [7 8 9]]\n",
      "int8\n",
      "[[6 9 6]\n",
      " [5 5 7]]\n"
     ]
    }
   ],
   "source": [
    "list_1 = [1, 2, 3, 4, 5]\n",
    "np_arr_1 = np.array(list_1, dtype=np.int8)\n",
    "np_arr_1\n",
    "\n",
    "m_list_1 = [[1, 2, 3], [4, 5, 6], [7, 8, 9]]\n",
    "np_arr_2 = np.array(m_list_1)\n",
    "\n",
    "print(np.arange(1, 10, 2))\n",
    "print(np.linspace(0, 50, 5))\n",
    "\n",
    "print(np.zeros((10, 2)))\n",
    "print(np.ones(2))\n",
    "\n",
    "print(np_arr_2.size)\n",
    "\n",
    "print(np.array([[1, 2, 3], [4, 5, 6], [7, 8, 9]]))\n",
    "\n",
    "print(np_arr_1.dtype)\n",
    "\n",
    "print(np.random.randint(5, 10, size=(2, 3)))\n",
    "\n",
    "# np.random.randint?"
   ]
  },
  {
   "cell_type": "markdown",
   "id": "4dc5fe90",
   "metadata": {},
   "source": [
    "## Slicing & Indexes"
   ]
  },
  {
   "cell_type": "code",
   "execution_count": 429,
   "id": "47e6c8c6",
   "metadata": {},
   "outputs": [
    {
     "name": "stdout",
     "output_type": "stream",
     "text": [
      "[[69 23  3]\n",
      " [ 4  5  6]\n",
      " [ 7  8  9]]\n",
      "(3, 3)\n",
      "23\n",
      "69\n",
      "[69  4  9]\n",
      "[[69 23  3]\n",
      " [ 4  5 10]\n",
      " [ 7 10  9]]\n",
      "[1 3 5]\n",
      "[23  5 10]\n",
      "[5 3 1]\n",
      "[[ 9 10  7]\n",
      " [10  5  4]\n",
      " [ 3 23 69]]\n",
      "[[72 91 59 99 47 43 59 64 31 23]\n",
      " [40 83  3  5 94 92 14 63 22  0]\n",
      " [87 36 60 64 52 26 53  1 39  5]\n",
      " [75 78 22 75 97 72 62 89 18 23]\n",
      " [34  7 24 92 49 95 89 76 56 92]\n",
      " [ 2 79 31 97 81 39 23 75 14 36]\n",
      " [ 7 24 94 88 75 36  7 75 67 92]\n",
      " [36 99 28 73 61 49 40 68 16 61]\n",
      " [62 36 84 53 13 57 90 24 51 34]\n",
      " [33 59 79  7 47 63 36 24  1 37]]\n",
      "[[43 64 23]\n",
      " [26  1  5]\n",
      " [95 76 92]]\n"
     ]
    }
   ],
   "source": [
    "np_arr_2[0, 0] = 69\n",
    "np_arr_2.itemset((0, 1), 23)\n",
    "\n",
    "print(np_arr_2)\n",
    "print(np_arr_2.shape)\n",
    "print(np_arr_2[0, 1])\n",
    "print(np_arr_2.item(0, 0))\n",
    "\n",
    "print(np.take(np_arr_2, [0, 3, 8]))\n",
    "np.put(np_arr_2, [5, 7], [10, 10])\n",
    "print(np_arr_2)\n",
    "\n",
    "np_arr_3 = np_arr_1[: 5: 2]\n",
    "print(np_arr_3)\n",
    "\n",
    "np_arr_4 = np_arr_2[:, 1]\n",
    "print(np_arr_4)\n",
    "\n",
    "print(np_arr_3[::-1])\n",
    "print(np.flip(np_arr_2))\n",
    "\n",
    "np_arr_5 = np.random.randint(100, size=(10, 10))\n",
    "print(np_arr_5)\n",
    "print(np_arr_5[:6:2, 5:10:2])"
   ]
  },
  {
   "cell_type": "code",
   "execution_count": 430,
   "id": "5ea5430f",
   "metadata": {},
   "outputs": [
    {
     "name": "stdout",
     "output_type": "stream",
     "text": [
      "[ 4 10 10]\n",
      "[10 10]\n",
      "[10 10]\n",
      "[ 4 10]\n"
     ]
    }
   ],
   "source": [
    "evens = np_arr_2[np_arr_2 % 2 == 0]\n",
    "\n",
    "print(evens)\n",
    "print(evens[evens > 5])\n",
    "print(evens[(evens > 5) & (evens <= 10)])\n",
    "\n",
    "print(np.unique(evens))"
   ]
  },
  {
   "cell_type": "markdown",
   "id": "1eea334c",
   "metadata": {},
   "source": [
    "## Reshaping Arrays"
   ]
  },
  {
   "cell_type": "code",
   "execution_count": 431,
   "id": "e4270e69",
   "metadata": {},
   "outputs": [
    {
     "name": "stdout",
     "output_type": "stream",
     "text": [
      "[[ 2  3  4]\n",
      " [19  2  9]]\n",
      "[[ 2 19]\n",
      " [ 3  2]\n",
      " [ 4  9]]\n",
      "[[ 2 19  3  2  4]\n",
      " [ 9  2 19  3  2]]\n",
      "[[ 2  9]\n",
      " [19  2]\n",
      " [ 3 19]\n",
      " [ 2  3]\n",
      " [ 4  2]]\n",
      "[ 2 19  3  2  4  9  2 19  3  2]\n",
      "1\n",
      "[ 2  2  2  2  3  3  4  9 19 19]\n",
      "[[69 23  3]\n",
      " [ 4  5 10]\n",
      " [ 7 10  9]]\n",
      "[[ 3 23 69]\n",
      " [ 4  5 10]\n",
      " [ 7  9 10]]\n"
     ]
    }
   ],
   "source": [
    "arr_1d = np.array((2, 3, 4, 19, 2, 9))\n",
    "arr_1d = arr_1d.reshape(2, 3)\n",
    "\n",
    "print(arr_1d)\n",
    "\n",
    "arr_1d = arr_1d.swapaxes(0, 1)\n",
    "print(arr_1d)\n",
    "\n",
    "arr_1d = np.resize(arr_1d, (2, 5))\n",
    "print(arr_1d)\n",
    "\n",
    "arr_1d = arr_1d.transpose()\n",
    "print(arr_1d)\n",
    "\n",
    "arr_1d = arr_1d.flatten(order='F')\n",
    "print(arr_1d)\n",
    "print(arr_1d.ndim)\n",
    "\n",
    "arr_1d.sort()\n",
    "print(arr_1d)\n",
    "\n",
    "print(np_arr_2)\n",
    "np_arr_2.sort(axis=1)\n",
    "print(np_arr_2)"
   ]
  },
  {
   "cell_type": "markdown",
   "id": "e0e595cb",
   "metadata": {},
   "source": [
    "## Stacking & Splitting"
   ]
  },
  {
   "cell_type": "code",
   "execution_count": 3,
   "id": "767e873e",
   "metadata": {},
   "outputs": [
    {
     "name": "stdout",
     "output_type": "stream",
     "text": [
      "[[2 2 9]\n",
      " [8 4 2]\n",
      " [4 4 2]\n",
      " [0 1 2]]\n",
      "[[4 4 2]]\n",
      "[[4 4 2 4 4 2]]\n",
      "[[4 4 2]\n",
      " [4 4 2]]\n",
      "[[2]\n",
      " [8]] [[2]\n",
      " [4]]\n"
     ]
    }
   ],
   "source": [
    "rand_arr_1 = np.random.randint(10, size=(2, 3))\n",
    "rand_arr_2 = np.random.randint(0, 5, (2, 3))\n",
    "\n",
    "print(np.vstack((rand_arr_1, rand_arr_2)))\n",
    "\n",
    "rand_arr_3 = np.delete(rand_arr_2, 1, 0)\n",
    "print(rand_arr_3)\n",
    "\n",
    "print(np.column_stack((rand_arr_3, rand_arr_3)))\n",
    "print(np.row_stack((rand_arr_3, rand_arr_3)))\n",
    "\n",
    "rand_arr_4, rand_arr_5, rand_arr_6 = np.hsplit(rand_arr_1, (1, 2))\n",
    "print(rand_arr_4, rand_arr_5)"
   ]
  },
  {
   "cell_type": "markdown",
   "id": "396c1fae",
   "metadata": {},
   "source": [
    "## Copying"
   ]
  },
  {
   "cell_type": "code",
   "execution_count": 433,
   "id": "3783bed8",
   "metadata": {},
   "outputs": [
    {
     "name": "stdout",
     "output_type": "stream",
     "text": [
      "[[2 1]\n",
      " [9 6]]\n",
      "[[69  1]\n",
      " [69  6]]\n",
      "[[2 1]\n",
      " [9 6]]\n"
     ]
    }
   ],
   "source": [
    "cp_arr_1 = np.random.randint(10, size=(2, 2))\n",
    "cp_arr_2 = cp_arr_1.copy()\n",
    "\n",
    "print(cp_arr_1)\n",
    "np.put(cp_arr_1, [0, 2], [69, 69])\n",
    "\n",
    "print(cp_arr_1)\n",
    "print(cp_arr_2)"
   ]
  },
  {
   "cell_type": "markdown",
   "id": "6aea234f",
   "metadata": {},
   "source": [
    "## Basic Math"
   ]
  },
  {
   "cell_type": "code",
   "execution_count": 434,
   "id": "c77cc38b",
   "metadata": {},
   "outputs": [
    {
     "name": "stdout",
     "output_type": "stream",
     "text": [
      "3\n",
      "10\n",
      "[[ 5 30 79]\n",
      " [ 5  3 22]]\n",
      "[ 10  33 101]\n",
      "[[  5  35 114]\n",
      " [  5   8  30]]\n",
      "3\n",
      "[79 22]\n",
      "[[ 10  60 158]\n",
      " [ 10   6  44]]\n",
      "[[0 0 0]\n",
      " [0 0 0]]\n",
      "[[0 0]\n",
      " [1 0]]\n",
      "[[   5   36]\n",
      " [ 343 4096]]\n",
      "[[1.         1.41421356]\n",
      " [1.73205081 2.        ]]\n",
      "[[1.70997595 1.81712059]\n",
      " [1.91293118 2.        ]]\n",
      "[ 2  9 39]\n",
      "[[ 2.71828183  7.3890561 ]\n",
      " [20.08553692 54.59815003]]\n",
      "[[2.32192809 2.5849625 ]\n",
      " [2.80735492 3.        ]]\n",
      "3\n",
      "90\n",
      "[  2.   1. 241.]\n",
      "[  3.   2. 242.]\n",
      "[ 1  4  9 16]\n",
      "[[0 9 2]\n",
      " [6 6 3]\n",
      " [4 8 1]\n",
      " [1 1 4]\n",
      " [8 9 8]]\n",
      "[4 0 4]\n",
      "[[8 9 8]\n",
      " [0 9 2]\n",
      " [8 9 8]]\n"
     ]
    }
   ],
   "source": [
    "arr_3 = np.array([1, 2, 3, 4])\n",
    "arr_4 = np.array([2, 4, 6, 8])\n",
    "\n",
    "arr_5 = random.randint(100, size=4)\n",
    "arr_6 = random.randint(100, size=(2, 3))\n",
    "\n",
    "arr_7 = random.rand(4)\n",
    "\n",
    "print(random.choice(arr_3))\n",
    "\n",
    "print(arr_3.sum())\n",
    "\n",
    "print(arr_6)\n",
    "print(arr_6.sum(axis=0))\n",
    "print(arr_6.cumsum(axis=1))\n",
    "\n",
    "print(np.min(arr_6))\n",
    "print(np.max(arr_6, axis=1))\n",
    "\n",
    "print(np.add(arr_6, arr_6))\n",
    "print(np.subtract(arr_6, arr_6))\n",
    "\n",
    "arr_7 = np.array([[1, 2], [3, 4]])\n",
    "arr_8 = np.array([[5, 6], [7, 8]])\n",
    "\n",
    "print(np.remainder(arr_8, arr_7))\n",
    "print(np.power(arr_8, arr_7))\n",
    "print(np.sqrt(arr_7))\n",
    "print(np.cbrt(arr_8))\n",
    "\n",
    "print(np.absolute([-2, -9, -39]))\n",
    "\n",
    "print(np.exp(arr_7))\n",
    "print(np.log2(arr_8))\n",
    "\n",
    "print(np.gcd.reduce([9, 6, 15]))\n",
    "print(np.lcm.reduce([9, 6, 15]))\n",
    "\n",
    "print(np.floor([2.3, 1.84, 241.92]))\n",
    "print(np.ceil([2.3, 1.84, 241.92]))\n",
    "\n",
    "sq_arr = np.arange(6) ** 2\n",
    "print(sq_arr[arr_3])\n",
    " \n",
    "arr_9 = np.random.randint(10, size=(5, 3))\n",
    "print(arr_9)\n",
    "mc_index = arr_9.argmax(axis=0)\n",
    "print(mc_index)\n",
    "print(arr_9[mc_index])"
   ]
  },
  {
   "cell_type": "markdown",
   "id": "881af303",
   "metadata": {},
   "source": [
    "## Reading from Files"
   ]
  },
  {
   "cell_type": "code",
   "execution_count": 20,
   "id": "28ece69b",
   "metadata": {},
   "outputs": [
    {
     "name": "stdout",
     "output_type": "stream",
     "text": [
      "[[1.0000000e+00 2.0129170e+03 3.2000000e+01 ... 2.4982980e+01\n",
      "  1.2154024e+02 3.7900000e+01]\n",
      " [2.0000000e+00 2.0129170e+03 1.9500000e+01 ... 2.4980340e+01\n",
      "  1.2153951e+02 4.2200000e+01]\n",
      " [3.0000000e+00 2.0135830e+03 1.3300000e+01 ... 2.4987460e+01\n",
      "  1.2154391e+02 4.7300000e+01]\n",
      " ...\n",
      " [4.1200000e+02 2.0132500e+03 1.8800000e+01 ... 2.4979230e+01\n",
      "  1.2153986e+02 4.0600000e+01]\n",
      " [4.1300000e+02 2.0130000e+03 8.1000000e+00 ... 2.4966740e+01\n",
      "  1.2154067e+02 5.2500000e+01]\n",
      " [4.1400000e+02 2.0135000e+03 6.5000000e+00 ... 2.4974330e+01\n",
      "  1.2154310e+02 6.3900000e+01]]\n"
     ]
    }
   ],
   "source": [
    "real_estate = pd.read_csv('real_estate.csv').to_numpy()\n",
    "print(real_estate)\n",
    "\n",
    "real_estate_2 = np.genfromtxt('real_estate.csv', delimiter=',')\n",
    "real_estate_2 = [row[~np.isnan(row)] for row in real_estate_2]\n",
    "\n",
    "#real_estate_2 = np.array(real_estate_2)\n",
    "\n",
    "#print(real_estate_2)"
   ]
  },
  {
   "cell_type": "markdown",
   "id": "6923681d",
   "metadata": {},
   "source": [
    "## Statistics Functions"
   ]
  },
  {
   "cell_type": "code",
   "execution_count": 53,
   "id": "955f6a64",
   "metadata": {},
   "outputs": [
    {
     "name": "stdout",
     "output_type": "stream",
     "text": [
      "68.7\n",
      "89.0\n",
      "68.7\n",
      "1.3564659966250536\n",
      "1.8399999999999999\n",
      "[259.5 321. ]\n",
      "[[ 1.         -0.66176961]\n",
      " [-0.66176961  1.        ]]\n",
      "-0.2227272727272728\n"
     ]
    }
   ],
   "source": [
    "sarr_1 = np.random.randint(100, size=10)\n",
    "\n",
    "print(np.mean(sarr_1))\n",
    "print(np.median(sarr_1))\n",
    "print(np.average(sarr_1))\n",
    "print(np.std([4, 6, 3, 6, 3]))\n",
    "print(np.var([4, 6, 3, 6, 3]))\n",
    "\n",
    "# nanmean, nanmedian, nanstd, nanvar: ignore nan values\n",
    "\n",
    "sarr_2 = np.random.randint(500, size=(12, 2))\n",
    "\n",
    "print(np.percentile(sarr_2, 50, axis=0))\n",
    "\n",
    "print(np.corrcoef(sarr_2[:, 0], sarr_2[:, 1]))\n",
    "\n",
    "x = np.random.randint(20, size=10)\n",
    "y = np.random.randint(200, size=10)\n",
    "\n",
    "slope = np.sum((x - np.mean(x)) * (y - np.mean(y))) / np.sum(np.square(x - np.mean(x)))\n",
    "print(slope)"
   ]
  },
  {
   "cell_type": "markdown",
   "id": "a8440b42",
   "metadata": {},
   "source": [
    "## Trig Functions"
   ]
  },
  {
   "cell_type": "code",
   "execution_count": 70,
   "id": "3d0f5be1",
   "metadata": {},
   "outputs": [
    {
     "data": {
      "image/png": "[encoded data removed]",
      "text/plain": [
       "<Figure size 432x288 with 4 Axes>"
      ]
     },
     "metadata": {},
     "output_type": "display_data"
    },
    {
     "name": "stdout",
     "output_type": "stream",
     "text": [
      "180.0\n",
      "3.141592653589793\n",
      "14.142135623730951\n"
     ]
    }
   ],
   "source": [
    "t_arr = np.linspace(-np.pi, np.pi, 200)\n",
    "\n",
    "_, axs = plt.subplots(2, 2)\n",
    "axs[0, 0].plot(t_arr, np.sin(t_arr))\n",
    "axs[0, 1].plot(t_arr, np.cos(t_arr))\n",
    "axs[1, 0].plot(t_arr, np.tan(t_arr))\n",
    "axs[1, 1].plot(t_arr, np.sinh(t_arr))\n",
    "\n",
    "plt.show()\n",
    "# arctan2, sinh, cosh, tanh, arcsinh, arccosh, arctanh, arccos\n",
    "\n",
    "print(np.rad2deg(np.pi))\n",
    "print(np.deg2rad(180))\n",
    "\n",
    "print(np.hypot(10, 10))"
   ]
  },
  {
   "cell_type": "markdown",
   "id": "51933c3f",
   "metadata": {},
   "source": [
    "## Linear Algebra Functions"
   ]
  },
  {
   "cell_type": "code",
   "execution_count": 36,
   "id": "80d5a39a",
   "metadata": {},
   "outputs": [
    {
     "name": "stdout",
     "output_type": "stream",
     "text": [
      "[[1 2]\n",
      " [3 4]]\n",
      "[[2 4]\n",
      " [6 9]]\n",
      "[[14 22]\n",
      " [30 48]]\n",
      "[[ 848  270]\n",
      " [1842  588]]\n",
      "18\n",
      "[30 70]\n",
      "[  0  44 304]\n",
      "10\n",
      "32\n",
      "[[7 10]\n",
      " [15 22]]\n",
      "[[ 2  4  4  8]\n",
      " [ 6  9 12 18]\n",
      " [ 6 12  8 16]\n",
      " [18 27 24 36]]\n",
      "(array([-0.37228132,  5.37228132]), array([[-0.82456484, -0.41597356],\n",
      "       [ 0.56576746, -0.90937671]]))\n"
     ]
    }
   ],
   "source": [
    "arr_5 = np.array([[1, 2], [3, 4]])\n",
    "arr_6 = np.array([[2, 4], [6, 9]])\n",
    "arr_7 = np.array([[15, 2], [29, 11]])\n",
    "\n",
    "print(arr_5)\n",
    "print(arr_6)\n",
    "\n",
    "print(np.dot(arr_5, arr_6))\n",
    "print(la.multi_dot((arr_5, arr_6, arr_7)))\n",
    "\n",
    "arr_8 = np.array([1, 12])\n",
    "arr_9 = np.array([6, 1])\n",
    "print(np.inner(arr_8, arr_9))\n",
    "\n",
    "arr_8 = np.array([[[1, 2], \n",
    "                  [3, 4]],\n",
    "                  [[5, 6],\n",
    "                  [7, 8]]])\n",
    "arr_9 = np.array([[1, 2], [3, 4]], dtype=object)\n",
    "\n",
    "print(np.tensordot(arr_8, arr_9))\n",
    "\n",
    "arr_10 = np.array([0, 2, 8])\n",
    "arr_11 = np.array([[0, 1, 2, 3], [4, 5, 6, 7], [8, 9, 10, 11]])\n",
    "\n",
    "print(np.einsum('i, ij->i', arr_10, arr_11))\n",
    "print(np.einsum('i->', arr_10))\n",
    "print(np.einsum('i, i->', np.array([1, 2, 3]), np.array([4, 5, 6])))\n",
    "\n",
    "print(la.matrix_power(arr_9, 2))\n",
    "\n",
    "print(np.kron(arr_5, arr_6))\n",
    "\n",
    "print(la.eig(arr_5))"
   ]
  },
  {
   "cell_type": "code",
   "execution_count": 2,
   "id": "5dddee12",
   "metadata": {},
   "outputs": [],
   "source": [
    "## Saving & Loading Numpy Objects "
   ]
  },
  {
   "cell_type": "code",
   "execution_count": null,
   "id": "79701c5c",
   "metadata": {},
   "outputs": [],
   "source": []
  }
 ],
 "metadata": {
  "kernelspec": {
   "display_name": "Python 3 (Spyder)",
   "language": "python3",
   "name": "python3"
  },
  "language_info": {
   "codemirror_mode": {
    "name": "ipython",
    "version": 3
   },
   "file_extension": ".py",
   "mimetype": "text/x-python",
   "name": "python",
   "nbconvert_exporter": "python",
   "pygments_lexer": "ipython3",
   "version": "3.8.12"
  }
 },
 "nbformat": 4,
 "nbformat_minor": 5
}
