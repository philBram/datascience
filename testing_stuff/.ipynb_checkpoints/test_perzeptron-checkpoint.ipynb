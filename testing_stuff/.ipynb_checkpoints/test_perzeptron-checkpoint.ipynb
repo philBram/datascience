{
 "cells": [
  {
   "cell_type": "code",
   "execution_count": 186,
   "id": "c0c6e79f",
   "metadata": {},
   "outputs": [],
   "source": [
    "import numpy as np\n",
    "import matplotlib.pyplot as plt\n",
    "import seaborn as sns\n",
    "import pandas as pd"
   ]
  },
  {
   "cell_type": "code",
   "execution_count": 305,
   "id": "1f7a641e",
   "metadata": {},
   "outputs": [],
   "source": [
    "data = np.array([\n",
    "    [20, 10, 1],\n",
    "    [40, 50, 0],\n",
    "    [20, 39, 1],\n",
    "    [50, 160, 0],\n",
    "    [80, 30, 0]\n",
    "])\n",
    "\n",
    "weights = np.random.rand(3)\n",
    "alpha = 0.5"
   ]
  },
  {
   "cell_type": "code",
   "execution_count": 306,
   "id": "3d63f5eb",
   "metadata": {},
   "outputs": [],
   "source": [
    "def learn(input, w):\n",
    "    x = np.hstack((np.ones((len(input), 1)), input[:, : input.shape[1] - 1]))\n",
    "    d = input[:, -1]\n",
    "    \n",
    "    for j in range(len(input)):\n",
    "        y = 1 if np.sum(w * x[j]) > 0 else 0\n",
    "        w[:] = w + alpha * x[j] * (d[j] - y)\n",
    "        \n",
    "def accuracy(input, w):\n",
    "    x = np.hstack((np.ones((len(input), 1)), input[:, : input.shape[1] - 1]))\n",
    "    d = input[:, - 1]\n",
    "    sum_right = 0\n",
    "    \n",
    "    for j in range(len(input)):\n",
    "        y = 1 if np.sum(x[j] * w) > 0 else 0\n",
    "        \n",
    "        if y == d[j]:\n",
    "            sum_right += 1\n",
    "            \n",
    "    return sum_right / len(input)"
   ]
  },
  {
   "cell_type": "code",
   "execution_count": null,
   "id": "39def7cc",
   "metadata": {},
   "outputs": [],
   "source": []
  },
  {
   "cell_type": "code",
   "execution_count": 307,
   "id": "d709c489",
   "metadata": {},
   "outputs": [
    {
     "name": "stdout",
     "output_type": "stream",
     "text": [
      "0.6\n",
      "1.0\n",
      "1.0\n",
      "1.0\n",
      "1.0\n"
     ]
    }
   ],
   "source": [
    "for i in range(100000):\n",
    "    learn(data, weights)\n",
    "    \n",
    "    if i % 20000 == 0:\n",
    "        print(accuracy(data, weights))"
   ]
  },
  {
   "cell_type": "code",
   "execution_count": 309,
   "id": "79501bfe",
   "metadata": {},
   "outputs": [],
   "source": [
    "x_line = np.linspace(10, 50, 100)\n",
    "weights[2] = -weights[2]\n",
    "y_line = weights[1] / weights[2] * x_line + weights[0] / weights[2]\n",
    "\n",
    "color = []\n",
    "for i in data[:, 2]:\n",
    "    color.append('r') if i == 0 else color.append('b')"
   ]
  },
  {
   "cell_type": "code",
   "execution_count": 310,
   "id": "2df92f36",
   "metadata": {},
   "outputs": [
    {
     "data": {
      "text/plain": [
       "<matplotlib.collections.PathCollection at 0x7f58e61dce20>"
      ]
     },
     "execution_count": 310,
     "metadata": {},
     "output_type": "execute_result"
    },
    {
     "data": {
      "image/png": "[encoded data removed]",
      "text/plain": [
       "<Figure size 432x288 with 1 Axes>"
      ]
     },
     "metadata": {},
     "output_type": "display_data"
    }
   ],
   "source": [
    "plt.plot(x_line, y_line)\n",
    "plt.scatter(data[0:, 0], data[0:, 1], c=color)"
   ]
  },
  {
   "cell_type": "code",
   "execution_count": null,
   "id": "b30d0a5a",
   "metadata": {},
   "outputs": [],
   "source": []
  }
 ],
 "metadata": {
  "kernelspec": {
   "display_name": "Python 3 (Spyder)",
   "language": "python3",
   "name": "python3"
  },
  "language_info": {
   "codemirror_mode": {
    "name": "ipython",
    "version": 3
   },
   "file_extension": ".py",
   "mimetype": "text/x-python",
   "name": "python",
   "nbconvert_exporter": "python",
   "pygments_lexer": "ipython3",
   "version": "3.8.12"
  }
 },
 "nbformat": 4,
 "nbformat_minor": 5
}
