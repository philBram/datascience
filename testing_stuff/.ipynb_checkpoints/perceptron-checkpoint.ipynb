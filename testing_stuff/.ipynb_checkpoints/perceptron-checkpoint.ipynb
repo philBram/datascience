{
 "cells": [
  {
   "cell_type": "code",
   "execution_count": 2,
   "id": "915754ed",
   "metadata": {},
   "outputs": [],
   "source": [
    "import numpy as np\n",
    "import matplotlib.pyplot as plt"
   ]
  },
  {
   "cell_type": "code",
   "execution_count": 3,
   "id": "0946ccff",
   "metadata": {},
   "outputs": [],
   "source": [
    "data = np.array([\n",
    "    [1, 40, 1],\n",
    "    [5, 10, 0],\n",
    "    [2, 50, 1],\n",
    "    [3, 63, 1],\n",
    "    [10, 5, 0],\n",
    "    [10, 99, 1],\n",
    "    [43, 2, 0],\n",
    "    [24, 7, 0]\n",
    "])\n",
    "\n",
    "weights = np.random.rand(3)\n",
    "\n",
    "data = np.hstack((np.ones((len(data), 1)), data[:, : data.shape[1]]))"
   ]
  },
  {
   "cell_type": "code",
   "execution_count": 4,
   "id": "49c98efc",
   "metadata": {},
   "outputs": [
    {
     "data": {
      "image/png": "[encoded data removed]",
      "text/plain": [
       "<Figure size 432x288 with 1 Axes>"
      ]
     },
     "metadata": {},
     "output_type": "display_data"
    }
   ],
   "source": [
    "plt.scatter(data[:, 1], data[:, 2], c=data[:, -1], cmap='winter')\n",
    "plt.show()"
   ]
  },
  {
   "cell_type": "code",
   "execution_count": 5,
   "id": "72297768",
   "metadata": {},
   "outputs": [],
   "source": [
    "def predict(input, weights):\n",
    "    total_activation = np.sum(input * weights)\n",
    "    return 1 if total_activation >= 0 else 0\n",
    "\n",
    "def accuracy(matrix, weights):\n",
    "    num_correct = 0\n",
    "    for i in range(len(matrix)):\n",
    "        pred = predict(matrix[i, :-1], weights)\n",
    "        num_correct += 1 if pred == matrix[i, -1] else 0\n",
    "        \n",
    "    return num_correct / float(len(matrix))\n",
    "\n",
    "def train(matrix, weights, epochs=10000, alpha=0.5):\n",
    "    for i in range(epochs):\n",
    "        for j in range(len(matrix)):\n",
    "            error = matrix[j, -1] - predict(matrix[j, :-1], weights)\n",
    "            weights[:] = weights + (alpha * error * matrix[j, :-1]) \n",
    "            \n",
    "    return weights"
   ]
  },
  {
   "cell_type": "code",
   "execution_count": 6,
   "id": "f5886012",
   "metadata": {},
   "outputs": [
    {
     "data": {
      "text/plain": [
       "array([ -1.82230177, -13.77520367,   3.09035052])"
      ]
     },
     "execution_count": 6,
     "metadata": {},
     "output_type": "execute_result"
    }
   ],
   "source": [
    "train(data, weights, epochs=10000, alpha=0.5)"
   ]
  },
  {
   "cell_type": "code",
   "execution_count": 7,
   "id": "46843eb1",
   "metadata": {},
   "outputs": [],
   "source": [
    "x_line = data[:, 1]\n",
    "y_line = -weights[1] / weights[2] * x_line - weights[0] / weights[2]"
   ]
  },
  {
   "cell_type": "code",
   "execution_count": 8,
   "id": "206fb6d3",
   "metadata": {},
   "outputs": [
    {
     "data": {
      "text/plain": [
       "<matplotlib.collections.PathCollection at 0x7f6394234790>"
      ]
     },
     "execution_count": 8,
     "metadata": {},
     "output_type": "execute_result"
    },
    {
     "data": {
      "image/png": "[encoded data removed]",
      "text/plain": [
       "<Figure size 432x288 with 1 Axes>"
      ]
     },
     "metadata": {},
     "output_type": "display_data"
    }
   ],
   "source": [
    "plt.plot(x_line, y_line)\n",
    "plt.scatter(x_line, data[:, 2], c=data[:, -1], cmap='winter')"
   ]
  },
  {
   "cell_type": "code",
   "execution_count": null,
   "id": "4e8a0918",
   "metadata": {},
   "outputs": [],
   "source": []
  }
 ],
 "metadata": {
  "kernelspec": {
   "display_name": "Python 3 (Spyder)",
   "language": "python3",
   "name": "python3"
  },
  "language_info": {
   "codemirror_mode": {
    "name": "ipython",
    "version": 3
   },
   "file_extension": ".py",
   "mimetype": "text/x-python",
   "name": "python",
   "nbconvert_exporter": "python",
   "pygments_lexer": "ipython3",
   "version": "3.8.12"
  }
 },
 "nbformat": 4,
 "nbformat_minor": 5
}
