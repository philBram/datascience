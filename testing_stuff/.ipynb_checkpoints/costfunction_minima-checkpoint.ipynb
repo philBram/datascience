{
 "cells": [
  {
   "cell_type": "code",
   "execution_count": 1,
   "id": "a9e7ed62-fc8e-4e23-a3b5-eee46cf398d8",
   "metadata": {},
   "outputs": [],
   "source": [
    "import numpy as np\n",
    "import matplotlib.pyplot as plt\n",
    "import seaborn as sns\n",
    "\n",
    "%matplotlib widget"
   ]
  },
  {
   "cell_type": "code",
   "execution_count": 2,
   "id": "2e6586f0-db6e-4cdb-8529-b5558e8d4e18",
   "metadata": {},
   "outputs": [],
   "source": [
    "xlist = np.linspace(-3, 3, 100)\n",
    "ylist = np.linspace(-3, 3, 100)\n",
    "\n",
    "X, Y = np.meshgrid(xlist, ylist)"
   ]
  },
  {
   "cell_type": "code",
   "execution_count": 3,
   "id": "fd8bcac3-dc4f-4986-aeef-4ef1951fd2bb",
   "metadata": {},
   "outputs": [],
   "source": [
    "def y_prediction(m, b):\n",
    "    return m * xlist + b\n",
    "\n",
    "def cost(m, b):\n",
    "    y_predicted = y_prediction(m, b)\n",
    "    mse = np.sqrt(np.mean((ylist - y_predicted) ** 2))\n",
    "    return mse"
   ]
  },
  {
   "cell_type": "code",
   "execution_count": 4,
   "id": "0a3dc2e2-914c-437f-a5cb-e715ebdb6228",
   "metadata": {},
   "outputs": [],
   "source": [
    "slope = []\n",
    "intercept = []\n",
    "mse = []\n",
    "\n",
    "for m in range(-200, 300, 2):\n",
    "    for b in range(-50, 50, 1):\n",
    "        slope.append(m)\n",
    "        intercept.append(b)\n",
    "        mse.append(cost(m / 100, b / 10))"
   ]
  },
  {
   "cell_type": "code",
   "execution_count": 6,
   "id": "36c5faa3-5f04-46cd-86db-b482b1657efa",
   "metadata": {},
   "outputs": [
    {
     "ename": "SyntaxError",
     "evalue": "EOL while scanning string literal (3412225712.py, line 9)",
     "output_type": "error",
     "traceback": [
      "\u001b[0;36m  File \u001b[0;32m\"/tmp/ipykernel_12111/3412225712.py\"\u001b[0;36m, line \u001b[0;32m9\u001b[0m\n\u001b[0;31m    fig.colorbar(scatterplot, shrink=0.5, title't)\u001b[0m\n\u001b[0m                                                  ^\u001b[0m\n\u001b[0;31mSyntaxError\u001b[0m\u001b[0;31m:\u001b[0m EOL while scanning string literal\n"
     ]
    }
   ],
   "source": [
    "fig = plt.figure(figsize=(10, 10), dpi=100)\n",
    "ax = fig.add_axes([0, 0, 0.8, 0.8], projection='3d')\n",
    "\n",
    "scatterplot = ax.scatter(slope, intercept, mse, s=10, c=mse)\n",
    "ax.set_xlabel('slope')\n",
    "ax.set_ylabel('intercept')\n",
    "ax.set_zlabel('mse')\n",
    "\n",
    "fig.colorbar(scatterplot, shrink=0.5, title't)\n",
    "\n",
    "slope = np.array(slope)\n",
    "intercept = np.array(intercept)\n",
    "mse = np.array(mse)\n",
    "\n",
    "min_index = mse.argmin()\n",
    "\n",
    "ax.scatter(slope[min_index], intercept[min_index], mse[min_index], s=50, c='r')"
   ]
  },
  {
   "cell_type": "code",
   "execution_count": null,
   "id": "e29f28fb-cea0-41ff-b927-fe3e85f0def5",
   "metadata": {},
   "outputs": [],
   "source": []
  }
 ],
 "metadata": {
  "kernelspec": {
   "display_name": "Python 3 (ipykernel)",
   "language": "python",
   "name": "python3"
  },
  "language_info": {
   "codemirror_mode": {
    "name": "ipython",
    "version": 3
   },
   "file_extension": ".py",
   "mimetype": "text/x-python",
   "name": "python",
   "nbconvert_exporter": "python",
   "pygments_lexer": "ipython3",
   "version": "3.8.12"
  }
 },
 "nbformat": 4,
 "nbformat_minor": 5
}
