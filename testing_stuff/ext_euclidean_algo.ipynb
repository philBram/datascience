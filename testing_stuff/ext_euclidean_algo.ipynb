{
 "cells": [
  {
   "cell_type": "code",
   "execution_count": 50,
   "id": "5b78e54c",
   "metadata": {},
   "outputs": [],
   "source": [
    "import numpy as np"
   ]
  },
  {
   "cell_type": "code",
   "execution_count": 98,
   "id": "3cb105c1",
   "metadata": {},
   "outputs": [],
   "source": [
    "a = 60\n",
    "b = 47\n",
    "p = 7\n",
    "q = 11\n",
    "n = p * q\n",
    "x = [0, 1]"
   ]
  },
  {
   "cell_type": "code",
   "execution_count": 99,
   "id": "88bcbac4",
   "metadata": {},
   "outputs": [],
   "source": [
    "def ggt(a, b, x):\n",
    "    y = x.copy()\n",
    "    while b != 0:\n",
    "        q = a // b\n",
    "        t = b\n",
    "        b = a % b\n",
    "        a = t\n",
    "        \n",
    "        if b != 0:\n",
    "            s = y[0] - q * y[1]\n",
    "            y[0] = y[1]\n",
    "            y[1] = s\n",
    "            \n",
    "    return a, s"
   ]
  },
  {
   "cell_type": "code",
   "execution_count": 100,
   "id": "7fda6412",
   "metadata": {},
   "outputs": [
    {
     "data": {
      "text/plain": [
       "(1, 23)"
      ]
     },
     "execution_count": 100,
     "metadata": {},
     "output_type": "execute_result"
    }
   ],
   "source": [
    "ggt(a, b, x)"
   ]
  },
  {
   "cell_type": "code",
   "execution_count": 187,
   "id": "51d7ea6b",
   "metadata": {},
   "outputs": [],
   "source": [
    "def ggtRec(a, b, x):\n",
    "    if a < b:\n",
    "        t = b\n",
    "        b = a \n",
    "        a = t\n",
    "\n",
    "    return ggtRecHelp(a, b, x.copy())\n",
    "    \n",
    "def ggtRecHelp(a, b, x):\n",
    "    if b == 0:\n",
    "        return a, x[1]\n",
    "    \n",
    "    if a % b != 0:\n",
    "\n",
    "        q = a // b\n",
    "        y = x[0] - q * x[1]\n",
    "        x[0] = x[1]\n",
    "        x[1] = y\n",
    "    \n",
    "    return ggtRecHelp(b, a % b, x)"
   ]
  },
  {
   "cell_type": "code",
   "execution_count": 194,
   "id": "6589d846",
   "metadata": {},
   "outputs": [],
   "source": [
    "_, d = ggtRec(a, b, x)"
   ]
  },
  {
   "cell_type": "code",
   "execution_count": 195,
   "id": "6d0b438c",
   "metadata": {},
   "outputs": [
    {
     "name": "stdout",
     "output_type": "stream",
     "text": [
      "7\n",
      "8\n"
     ]
    }
   ],
   "source": [
    "text = \"HI\"\n",
    "text_encrypted = []\n",
    "text_decrypted = []\n",
    "\n",
    "for i in text:\n",
    "    print((ord(i) - 65))\n",
    "    text_encrypted.append(((ord(i) - 65) ** b) % n)"
   ]
  },
  {
   "cell_type": "code",
   "execution_count": 196,
   "id": "11fced52",
   "metadata": {},
   "outputs": [
    {
     "name": "stdout",
     "output_type": "stream",
     "text": [
      "[28, 57]\n"
     ]
    }
   ],
   "source": [
    "print(text_encrypted)"
   ]
  },
  {
   "cell_type": "code",
   "execution_count": 197,
   "id": "c06219e8",
   "metadata": {},
   "outputs": [],
   "source": [
    "for i in text_encrypted:\n",
    "    text_decrypted.append(chr(i ** d % n + 65))"
   ]
  },
  {
   "cell_type": "code",
   "execution_count": 201,
   "id": "bd47c73e",
   "metadata": {},
   "outputs": [
    {
     "name": "stdout",
     "output_type": "stream",
     "text": [
      "HI\n"
     ]
    }
   ],
   "source": [
    "text_decrypted = ''.join(text_decrypted)\n",
    "print(text_decrypted)"
   ]
  },
  {
   "cell_type": "code",
   "execution_count": null,
   "id": "818a7ac5",
   "metadata": {},
   "outputs": [],
   "source": []
  }
 ],
 "metadata": {
  "kernelspec": {
   "display_name": "Python 3 (Spyder)",
   "language": "python3",
   "name": "python3"
  },
  "language_info": {
   "codemirror_mode": {
    "name": "ipython",
    "version": 3
   },
   "file_extension": ".py",
   "mimetype": "text/x-python",
   "name": "python",
   "nbconvert_exporter": "python",
   "pygments_lexer": "ipython3",
   "version": "3.8.12"
  }
 },
 "nbformat": 4,
 "nbformat_minor": 5
}
