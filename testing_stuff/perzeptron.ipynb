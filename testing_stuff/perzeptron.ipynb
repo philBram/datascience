{
 "cells": [
  {
   "cell_type": "code",
   "execution_count": 2,
   "id": "1c1793d2",
   "metadata": {},
   "outputs": [],
   "source": [
    "import numpy as np\n",
    "import matplotlib.pyplot as plt"
   ]
  },
  {
   "cell_type": "code",
   "execution_count": 433,
   "id": "08b7208b",
   "metadata": {},
   "outputs": [],
   "source": [
    "data = np.array([\n",
    "    [1, 40, 1],\n",
    "    [5, 10, 0],\n",
    "    [2, 50, 1],\n",
    "    [3, 63, 1],\n",
    "    [10, 5, 0],\n",
    "    [10, 99, 1],\n",
    "    [43, 2, 0],\n",
    "    [24, 7, 0]\n",
    "])\n",
    "\n",
    "weights = np.random.rand(3)\n",
    "\n",
    "data = np.hstack((np.ones((len(data), 1)), data[:, : data.shape[1]]))"
   ]
  },
  {
   "cell_type": "code",
   "execution_count": 434,
   "id": "8ce1ad1c",
   "metadata": {},
   "outputs": [
    {
     "data": {
      "image/png": "[encoded data removed]",
      "text/plain": [
       "<Figure size 432x288 with 1 Axes>"
      ]
     },
     "metadata": {},
     "output_type": "display_data"
    }
   ],
   "source": [
    "plt.scatter(data[:, 1], data[:, 2], c=data[:, -1], cmap='winter')\n",
    "plt.show()"
   ]
  },
  {
   "cell_type": "code",
   "execution_count": 435,
   "id": "5ece9e78",
   "metadata": {},
   "outputs": [],
   "source": [
    "def predict(input, weights):\n",
    "    threshold = 0.5\n",
    "    total_activation = np.sum(input * weights)\n",
    "    return 1 if total_activation >= threshold else 0\n",
    "\n",
    "def accuracy(matrix, weights):\n",
    "    num_correct = 0\n",
    "    for i in range(len(matrix)):\n",
    "        pred = predict(matrix[i, :-1], weights)\n",
    "        num_correct += 1 if pred == matrix[i, -1] else 0\n",
    "        \n",
    "    return num_correct / float(len(matrix))\n",
    "\n",
    "def train(matrix, weights, epochs=10000, alpha=0.5):\n",
    "    for i in range(epochs):\n",
    "        for j in range(len(matrix)):\n",
    "            error = matrix[j, -1] - predict(matrix[j, :-1], weights)\n",
    "            weights[:] = weights + (alpha * error * matrix[j, :-1]) \n",
    "            \n",
    "    return weights"
   ]
  },
  {
   "cell_type": "code",
   "execution_count": 436,
   "id": "3cbe4071",
   "metadata": {},
   "outputs": [
    {
     "data": {
      "text/plain": [
       "array([ -1.45368979, -13.19922787,   3.36278173])"
      ]
     },
     "execution_count": 436,
     "metadata": {},
     "output_type": "execute_result"
    }
   ],
   "source": [
    "train(data, weights, epochs=10000, alpha=0.5)"
   ]
  },
  {
   "cell_type": "code",
   "execution_count": 437,
   "id": "73f72367",
   "metadata": {},
   "outputs": [],
   "source": [
    "x_line = data[:, 1]\n",
    "y_line = -weights[1] / weights[2] * x_line - weights[0] / weights[2]"
   ]
  },
  {
   "cell_type": "code",
   "execution_count": 438,
   "id": "4143299a",
   "metadata": {},
   "outputs": [
    {
     "data": {
      "text/plain": [
       "<matplotlib.collections.PathCollection at 0x7f068aa0b8b0>"
      ]
     },
     "execution_count": 438,
     "metadata": {},
     "output_type": "execute_result"
    },
    {
     "data": {
      "image/png": "[encoded data removed]",
      "text/plain": [
       "<Figure size 432x288 with 1 Axes>"
      ]
     },
     "metadata": {},
     "output_type": "display_data"
    }
   ],
   "source": [
    "plt.plot(x_line, y_line)\n",
    "plt.scatter(x_line, data[:, 2], c=data[:, -1], cmap='winter')"
   ]
  }
 ],
 "metadata": {
  "kernelspec": {
   "display_name": "Python 3 (Spyder)",
   "language": "python3",
   "name": "python3"
  },
  "language_info": {
   "codemirror_mode": {
    "name": "ipython",
    "version": 3
   },
   "file_extension": ".py",
   "mimetype": "text/x-python",
   "name": "python",
   "nbconvert_exporter": "python",
   "pygments_lexer": "ipython3",
   "version": "3.8.12"
  }
 },
 "nbformat": 4,
 "nbformat_minor": 5
}
