{
 "cells": [
  {
   "cell_type": "code",
   "execution_count": 17,
   "id": "8c78d112-5675-4d5c-97d1-c356745f6b99",
   "metadata": {},
   "outputs": [],
   "source": [
    "import pandas as pd\n",
    "import pymysql\n",
    "from sqlalchemy import create_engine"
   ]
  },
  {
   "cell_type": "code",
   "execution_count": 36,
   "id": "ded9c2ea-771c-4bdb-ae72-c1f2c0e05ceb",
   "metadata": {},
   "outputs": [],
   "source": [
    "engine = create_engine('mysql+pymysql://root@localhost/my-company', echo=True)"
   ]
  },
  {
   "cell_type": "code",
   "execution_count": 37,
   "id": "3d425733-ebe8-4fcb-ba8d-3777d3fc2159",
   "metadata": {},
   "outputs": [
    {
     "name": "stdout",
     "output_type": "stream",
     "text": [
      "2021-12-11 00:12:48,396 INFO sqlalchemy.engine.base.Engine SHOW VARIABLES LIKE 'sql_mode'\n",
      "2021-12-11 00:12:48,396 INFO sqlalchemy.engine.base.Engine {}\n",
      "2021-12-11 00:12:48,398 INFO sqlalchemy.engine.base.Engine SHOW VARIABLES LIKE 'lower_case_table_names'\n",
      "2021-12-11 00:12:48,398 INFO sqlalchemy.engine.base.Engine {}\n",
      "2021-12-11 00:12:48,400 INFO sqlalchemy.engine.base.Engine SELECT DATABASE()\n",
      "2021-12-11 00:12:48,400 INFO sqlalchemy.engine.base.Engine {}\n",
      "2021-12-11 00:12:48,401 INFO sqlalchemy.engine.base.Engine show collation where `Charset` = 'utf8mb4' and `Collation` = 'utf8mb4_bin'\n",
      "2021-12-11 00:12:48,402 INFO sqlalchemy.engine.base.Engine {}\n",
      "2021-12-11 00:12:48,403 INFO sqlalchemy.engine.base.Engine SELECT CAST('test plain returns' AS CHAR(60)) AS anon_1\n",
      "2021-12-11 00:12:48,404 INFO sqlalchemy.engine.base.Engine {}\n",
      "2021-12-11 00:12:48,405 INFO sqlalchemy.engine.base.Engine SELECT CAST('test unicode returns' AS CHAR(60)) AS anon_1\n",
      "2021-12-11 00:12:48,405 INFO sqlalchemy.engine.base.Engine {}\n",
      "2021-12-11 00:12:48,406 INFO sqlalchemy.engine.base.Engine SELECT CAST('test collated returns' AS CHAR CHARACTER SET utf8mb4) COLLATE utf8mb4_bin AS anon_1\n",
      "2021-12-11 00:12:48,407 INFO sqlalchemy.engine.base.Engine {}\n",
      "2021-12-11 00:12:48,408 INFO sqlalchemy.engine.base.Engine SHOW FULL TABLES FROM `my-company`\n",
      "2021-12-11 00:12:48,408 INFO sqlalchemy.engine.base.Engine {}\n"
     ]
    },
    {
     "data": {
      "text/plain": [
       "['Abteilung',\n",
       " 'Arbeitspaket',\n",
       " 'Arbeitspaketbeziehung',\n",
       " 'Buchung',\n",
       " 'Kompetenz',\n",
       " 'Kunde',\n",
       " 'Mitarbeiter',\n",
       " 'Projekt',\n",
       " 'Tätigkeit',\n",
       " 'customerr']"
      ]
     },
     "execution_count": 37,
     "metadata": {},
     "output_type": "execute_result"
    }
   ],
   "source": [
    "engine.table_names()"
   ]
  },
  {
   "cell_type": "code",
   "execution_count": 38,
   "id": "ec93c933-c736-4eba-a93a-57fd1152e408",
   "metadata": {},
   "outputs": [
    {
     "name": "stdout",
     "output_type": "stream",
     "text": [
      "2021-12-11 00:12:49,032 INFO sqlalchemy.engine.base.Engine DESCRIBE `Select id, apid from Buchung`\n",
      "2021-12-11 00:12:49,033 INFO sqlalchemy.engine.base.Engine {}\n",
      "2021-12-11 00:12:49,033 INFO sqlalchemy.engine.base.Engine ROLLBACK\n",
      "2021-12-11 00:12:49,035 INFO sqlalchemy.engine.base.OptionEngine Select id, apid from Buchung\n",
      "2021-12-11 00:12:49,035 INFO sqlalchemy.engine.base.OptionEngine {}\n"
     ]
    }
   ],
   "source": [
    "df = pd.read_sql('Select id, apid from Buchung', engine)"
   ]
  },
  {
   "cell_type": "code",
   "execution_count": 39,
   "id": "ade372f0-f769-465d-bc6a-546712aa1fb3",
   "metadata": {},
   "outputs": [
    {
     "data": {
      "text/html": [
       "<div>\n",
       "<style scoped>\n",
       "    .dataframe tbody tr th:only-of-type {\n",
       "        vertical-align: middle;\n",
       "    }\n",
       "\n",
       "    .dataframe tbody tr th {\n",
       "        vertical-align: top;\n",
       "    }\n",
       "\n",
       "    .dataframe thead th {\n",
       "        text-align: right;\n",
       "    }\n",
       "</style>\n",
       "<table border=\"1\" class=\"dataframe\">\n",
       "  <thead>\n",
       "    <tr style=\"text-align: right;\">\n",
       "      <th></th>\n",
       "      <th>id</th>\n",
       "      <th>apid</th>\n",
       "    </tr>\n",
       "  </thead>\n",
       "  <tbody>\n",
       "    <tr>\n",
       "      <th>0</th>\n",
       "      <td>33097</td>\n",
       "      <td>1</td>\n",
       "    </tr>\n",
       "    <tr>\n",
       "      <th>1</th>\n",
       "      <td>33127</td>\n",
       "      <td>1</td>\n",
       "    </tr>\n",
       "    <tr>\n",
       "      <th>2</th>\n",
       "      <td>33157</td>\n",
       "      <td>1</td>\n",
       "    </tr>\n",
       "    <tr>\n",
       "      <th>3</th>\n",
       "      <td>33212</td>\n",
       "      <td>1</td>\n",
       "    </tr>\n",
       "    <tr>\n",
       "      <th>4</th>\n",
       "      <td>33220</td>\n",
       "      <td>1</td>\n",
       "    </tr>\n",
       "    <tr>\n",
       "      <th>...</th>\n",
       "      <td>...</td>\n",
       "      <td>...</td>\n",
       "    </tr>\n",
       "    <tr>\n",
       "      <th>62944</th>\n",
       "      <td>53009</td>\n",
       "      <td>257</td>\n",
       "    </tr>\n",
       "    <tr>\n",
       "      <th>62945</th>\n",
       "      <td>53063</td>\n",
       "      <td>257</td>\n",
       "    </tr>\n",
       "    <tr>\n",
       "      <th>62946</th>\n",
       "      <td>53580</td>\n",
       "      <td>257</td>\n",
       "    </tr>\n",
       "    <tr>\n",
       "      <th>62947</th>\n",
       "      <td>53585</td>\n",
       "      <td>257</td>\n",
       "    </tr>\n",
       "    <tr>\n",
       "      <th>62948</th>\n",
       "      <td>53707</td>\n",
       "      <td>257</td>\n",
       "    </tr>\n",
       "  </tbody>\n",
       "</table>\n",
       "<p>62949 rows × 2 columns</p>\n",
       "</div>"
      ],
      "text/plain": [
       "          id  apid\n",
       "0      33097     1\n",
       "1      33127     1\n",
       "2      33157     1\n",
       "3      33212     1\n",
       "4      33220     1\n",
       "...      ...   ...\n",
       "62944  53009   257\n",
       "62945  53063   257\n",
       "62946  53580   257\n",
       "62947  53585   257\n",
       "62948  53707   257\n",
       "\n",
       "[62949 rows x 2 columns]"
      ]
     },
     "execution_count": 39,
     "metadata": {},
     "output_type": "execute_result"
    }
   ],
   "source": [
    "df"
   ]
  }
 ],
 "metadata": {
  "kernelspec": {
   "display_name": "Python 3 (ipykernel)",
   "language": "python",
   "name": "python3"
  },
  "language_info": {
   "codemirror_mode": {
    "name": "ipython",
    "version": 3
   },
   "file_extension": ".py",
   "mimetype": "text/x-python",
   "name": "python",
   "nbconvert_exporter": "python",
   "pygments_lexer": "ipython3",
   "version": "3.8.12"
  }
 },
 "nbformat": 4,
 "nbformat_minor": 5
}
