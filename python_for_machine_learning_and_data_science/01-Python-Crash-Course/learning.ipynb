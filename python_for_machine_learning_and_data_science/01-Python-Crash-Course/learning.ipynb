{
 "cells": [
  {
   "cell_type": "code",
   "execution_count": 5,
   "id": "904c1cd4-c7ed-468c-b045-8204bc5705c1",
   "metadata": {},
   "outputs": [
    {
     "name": "stdout",
     "output_type": "stream",
     "text": [
      "hallo philip how are you?\n",
      "hallo philip how are you?\n"
     ]
    }
   ],
   "source": [
    "print(\"hallo {} how are {}?\".format('philip', 'you'))\n",
    "print(\"hallo {name} how are {y}?\".format(name='philip', y='you'))"
   ]
  },
  {
   "cell_type": "code",
   "execution_count": 3,
   "id": "3d28056d-5b7a-494d-a457-8db3aca084d0",
   "metadata": {},
   "outputs": [
    {
     "name": "stdout",
     "output_type": "stream",
     "text": [
      "philip, 29\n"
     ]
    }
   ],
   "source": [
    "name = 'philip'\n",
    "age = 29\n",
    "\n",
    "print(f\"{name}, {age}\")"
   ]
  },
  {
   "cell_type": "code",
   "execution_count": 6,
   "id": "98a06ea2-a028-4359-b9d3-8509a2afff92",
   "metadata": {},
   "outputs": [],
   "source": [
    "li = [1, 2, 3, 4]"
   ]
  },
  {
   "cell_type": "code",
   "execution_count": 8,
   "id": "61d599db-e483-477a-a5fe-cf3f48d6c813",
   "metadata": {},
   "outputs": [],
   "source": [
    "mylist = [1, 2, [3, 4, 5]]"
   ]
  },
  {
   "cell_type": "code",
   "execution_count": 13,
   "id": "8bcdbfff-0782-455e-add8-9273a268ef7c",
   "metadata": {},
   "outputs": [
    {
     "data": {
      "text/plain": [
       "4"
      ]
     },
     "execution_count": 13,
     "metadata": {},
     "output_type": "execute_result"
    }
   ],
   "source": [
    "mylist[2][1]"
   ]
  },
  {
   "cell_type": "code",
   "execution_count": 20,
   "id": "8c9dde45-91fa-4da5-8454-7df0911847aa",
   "metadata": {},
   "outputs": [],
   "source": [
    "d = {'name': 'phil', age: '26'}"
   ]
  },
  {
   "cell_type": "code",
   "execution_count": 21,
   "id": "89f80b0e-52b1-4108-8b51-15b691278a0c",
   "metadata": {},
   "outputs": [
    {
     "name": "stdout",
     "output_type": "stream",
     "text": [
      "phil 26\n"
     ]
    }
   ],
   "source": [
    "print(d['name'], d[age])"
   ]
  },
  {
   "cell_type": "code",
   "execution_count": 22,
   "id": "e8503c7b-f6cc-4255-bce9-115dfbb88e36",
   "metadata": {},
   "outputs": [
    {
     "data": {
      "text/plain": [
       "True"
      ]
     },
     "execution_count": 22,
     "metadata": {},
     "output_type": "execute_result"
    }
   ],
   "source": [
    "True"
   ]
  },
  {
   "cell_type": "code",
   "execution_count": 23,
   "id": "3d11e8f4-621b-462c-9c73-8af9dc660349",
   "metadata": {},
   "outputs": [
    {
     "data": {
      "text/plain": [
       "False"
      ]
     },
     "execution_count": 23,
     "metadata": {},
     "output_type": "execute_result"
    }
   ],
   "source": [
    "False"
   ]
  },
  {
   "cell_type": "code",
   "execution_count": 27,
   "id": "e51e6495-4fba-4ea5-9681-c7d742e8bcd9",
   "metadata": {},
   "outputs": [],
   "source": [
    "t = (1, 2, 3)"
   ]
  },
  {
   "cell_type": "code",
   "execution_count": 28,
   "id": "fe3065a5-168b-4ddb-a518-a561546a0693",
   "metadata": {},
   "outputs": [
    {
     "data": {
      "text/plain": [
       "(1, 2, 3)"
      ]
     },
     "execution_count": 28,
     "metadata": {},
     "output_type": "execute_result"
    }
   ],
   "source": [
    "t"
   ]
  },
  {
   "cell_type": "code",
   "execution_count": 30,
   "id": "b6e01c24-241a-4e93-9eb5-1c11870570c2",
   "metadata": {},
   "outputs": [],
   "source": [
    "# t[0] = 'NEW' dont work immutable"
   ]
  },
  {
   "cell_type": "code",
   "execution_count": 37,
   "id": "832878f2-4b42-46fc-8bbc-7c7a0544bee3",
   "metadata": {},
   "outputs": [],
   "source": [
    "s = {1, 2, 3}"
   ]
  },
  {
   "cell_type": "code",
   "execution_count": 38,
   "id": "b7a66dc4-3544-432f-9913-0166fe41c860",
   "metadata": {},
   "outputs": [],
   "source": [
    "s.add(2)"
   ]
  },
  {
   "cell_type": "code",
   "execution_count": 39,
   "id": "fd7d4f10-effd-4cbd-9e19-80dda6ab295e",
   "metadata": {},
   "outputs": [
    {
     "data": {
      "text/plain": [
       "{1, 2, 3}"
      ]
     },
     "execution_count": 39,
     "metadata": {},
     "output_type": "execute_result"
    }
   ],
   "source": [
    "s"
   ]
  },
  {
   "cell_type": "code",
   "execution_count": 40,
   "id": "b7f2c23e-681a-4f95-aac9-3d0f652ef2b1",
   "metadata": {},
   "outputs": [
    {
     "data": {
      "text/plain": [
       "True"
      ]
     },
     "execution_count": 40,
     "metadata": {},
     "output_type": "execute_result"
    }
   ],
   "source": [
    "1 < 5"
   ]
  },
  {
   "cell_type": "code",
   "execution_count": 45,
   "id": "f671ae33-32cd-437b-ac6b-3067f3c3c7c3",
   "metadata": {},
   "outputs": [],
   "source": [
    "x = [1, 2, 3, 4, 5]"
   ]
  },
  {
   "cell_type": "code",
   "execution_count": 47,
   "id": "84df9127-ba25-42b0-8bfc-3e6a654fb043",
   "metadata": {},
   "outputs": [
    {
     "data": {
      "text/plain": [
       "[1, 4, 9, 16, 25]"
      ]
     },
     "execution_count": 47,
     "metadata": {},
     "output_type": "execute_result"
    }
   ],
   "source": [
    "[num**2 for num in x]"
   ]
  },
  {
   "cell_type": "code",
   "execution_count": 57,
   "id": "77d61471-ed2d-4d85-a5a0-c92bf82bc404",
   "metadata": {},
   "outputs": [],
   "source": [
    "def myfunc(name=\"phil\"):\n",
    "    '''\n",
    "    test: this is a test\n",
    "    '''\n",
    "    print(f\"hi {name}\")"
   ]
  },
  {
   "cell_type": "code",
   "execution_count": 54,
   "id": "ddcadc26-bc06-4f93-8de6-b6265899661f",
   "metadata": {},
   "outputs": [
    {
     "name": "stdout",
     "output_type": "stream",
     "text": [
      "hi phil\n"
     ]
    }
   ],
   "source": [
    "myfunc()"
   ]
  },
  {
   "cell_type": "code",
   "execution_count": 80,
   "id": "136112d1-5d44-4d79-9d0d-d3183f25aa4d",
   "metadata": {},
   "outputs": [],
   "source": [
    "def square(x, y):\n",
    "    return y(x)\n",
    "\n",
    "def test(x):\n",
    "    return x * x"
   ]
  },
  {
   "cell_type": "code",
   "execution_count": 83,
   "id": "6b809509-823f-49e1-928d-0c9db3d5c7fc",
   "metadata": {},
   "outputs": [
    {
     "data": {
      "text/plain": [
       "function"
      ]
     },
     "execution_count": 83,
     "metadata": {},
     "output_type": "execute_result"
    }
   ],
   "source": [
    "t = square\n",
    "t1 = test\n",
    "type(t)"
   ]
  },
  {
   "cell_type": "code",
   "execution_count": 84,
   "id": "46374d30-f838-43ac-b575-d24eac8310e3",
   "metadata": {},
   "outputs": [
    {
     "data": {
      "text/plain": [
       "9"
      ]
     },
     "execution_count": 84,
     "metadata": {},
     "output_type": "execute_result"
    }
   ],
   "source": [
    "t(3, t1)"
   ]
  },
  {
   "cell_type": "code",
   "execution_count": 88,
   "id": "e5234e2b-9ae3-45de-b7d0-ee5f447c86c4",
   "metadata": {},
   "outputs": [
    {
     "data": {
      "text/plain": [
       "9"
      ]
     },
     "execution_count": 88,
     "metadata": {},
     "output_type": "execute_result"
    }
   ],
   "source": [
    "square(3, lambda x: x * x)"
   ]
  },
  {
   "cell_type": "code",
   "execution_count": 89,
   "id": "bda76148-d28b-4374-9a51-efd6c9dc5e14",
   "metadata": {},
   "outputs": [],
   "source": [
    "st = 'hallo my name is phil'"
   ]
  },
  {
   "cell_type": "code",
   "execution_count": 90,
   "id": "2ff7701d-f04e-443c-afff-52b650efb9ae",
   "metadata": {},
   "outputs": [
    {
     "data": {
      "text/plain": [
       "'hallo my name is phil'"
      ]
     },
     "execution_count": 90,
     "metadata": {},
     "output_type": "execute_result"
    }
   ],
   "source": [
    "st.lower()"
   ]
  },
  {
   "cell_type": "code",
   "execution_count": 91,
   "id": "a2fa5904-53cd-484c-876f-2fc3c088eccf",
   "metadata": {},
   "outputs": [
    {
     "data": {
      "text/plain": [
       "'HALLO MY NAME IS PHIL'"
      ]
     },
     "execution_count": 91,
     "metadata": {},
     "output_type": "execute_result"
    }
   ],
   "source": [
    "st.upper()"
   ]
  },
  {
   "cell_type": "code",
   "execution_count": 98,
   "id": "463c9f5e-4745-4e00-a73b-ae730dbd0c53",
   "metadata": {},
   "outputs": [],
   "source": [
    "tweet = 'Hello #sports'"
   ]
  },
  {
   "cell_type": "code",
   "execution_count": 105,
   "id": "58c716bb-1584-40da-9ad7-e2c4cf3bf407",
   "metadata": {},
   "outputs": [],
   "source": [
    "l = tweet.split('#')[-1]"
   ]
  },
  {
   "cell_type": "code",
   "execution_count": 106,
   "id": "412c7ac0-88e0-44e7-8d38-8d484dc7e0cc",
   "metadata": {},
   "outputs": [
    {
     "data": {
      "text/plain": [
       "'sports'"
      ]
     },
     "execution_count": 106,
     "metadata": {},
     "output_type": "execute_result"
    }
   ],
   "source": [
    "l"
   ]
  },
  {
   "cell_type": "code",
   "execution_count": 107,
   "id": "a5e96bc1-e3f1-414a-9707-49182f8e809a",
   "metadata": {},
   "outputs": [],
   "source": [
    "dic = {'name': 'phil', 'age': '26'}"
   ]
  },
  {
   "cell_type": "code",
   "execution_count": 112,
   "id": "7e8b2d78-9ab5-4088-8b73-562d97a5763b",
   "metadata": {},
   "outputs": [
    {
     "name": "stdout",
     "output_type": "stream",
     "text": [
      "dict_keys(['name', 'age']) dict_values(['phil', '26']) dict_items([('name', 'phil'), ('age', '26')])\n"
     ]
    }
   ],
   "source": [
    "print(dic.keys(), dic.values(), dic.items())"
   ]
  },
  {
   "cell_type": "code",
   "execution_count": 116,
   "id": "2706e8b1-c89c-47bd-99c8-b5dedc7a5895",
   "metadata": {},
   "outputs": [
    {
     "data": {
      "text/plain": [
       "[('name', 'phil'), ('age', '26')]"
      ]
     },
     "execution_count": 116,
     "metadata": {},
     "output_type": "execute_result"
    }
   ],
   "source": [
    "[(v, k) for v, k in dic.items()]"
   ]
  },
  {
   "cell_type": "code",
   "execution_count": 132,
   "id": "d642393a-bb5b-451f-8572-bd8c64a16a20",
   "metadata": {},
   "outputs": [],
   "source": [
    "mylist = [1, 2, 3, 4]"
   ]
  },
  {
   "cell_type": "code",
   "execution_count": 133,
   "id": "5880a3d6-40dd-4d2c-a4d5-896813e25329",
   "metadata": {},
   "outputs": [],
   "source": [
    "last = mylist.pop()\n",
    "first = mylist.pop(0)"
   ]
  },
  {
   "cell_type": "code",
   "execution_count": 135,
   "id": "fead8ed8-13e2-4a10-acf8-43411adef758",
   "metadata": {},
   "outputs": [
    {
     "data": {
      "text/plain": [
       "(1, 4)"
      ]
     },
     "execution_count": 135,
     "metadata": {},
     "output_type": "execute_result"
    }
   ],
   "source": [
    "first, last"
   ]
  },
  {
   "cell_type": "code",
   "execution_count": 136,
   "id": "7a3e1a4a-00f0-4a4b-94a0-881d80f899a1",
   "metadata": {},
   "outputs": [
    {
     "data": {
      "text/plain": [
       "False"
      ]
     },
     "execution_count": 136,
     "metadata": {},
     "output_type": "execute_result"
    }
   ],
   "source": [
    "'x' in mylist"
   ]
  },
  {
   "cell_type": "code",
   "execution_count": 151,
   "id": "aca8e367-3765-4e41-b71b-1d93b7380a1d",
   "metadata": {},
   "outputs": [
    {
     "data": {
      "text/plain": [
       "True"
      ]
     },
     "execution_count": 151,
     "metadata": {},
     "output_type": "execute_result"
    }
   ],
   "source": [
    "3 in mylist"
   ]
  },
  {
   "cell_type": "code",
   "execution_count": 155,
   "id": "0e9ce9f2-e6da-4437-a017-1360e65d6c8e",
   "metadata": {},
   "outputs": [],
   "source": [
    "sentence = \"this is a test test test test\""
   ]
  },
  {
   "cell_type": "code",
   "execution_count": 158,
   "id": "02c7c467-9530-4774-a805-2368e4e2489c",
   "metadata": {},
   "outputs": [
    {
     "data": {
      "text/plain": [
       "4"
      ]
     },
     "execution_count": 158,
     "metadata": {},
     "output_type": "execute_result"
    }
   ],
   "source": [
    "sentence.count('te')"
   ]
  },
  {
   "cell_type": "code",
   "execution_count": null,
   "id": "c4a09017-9ea8-4e26-b8d0-fab81bb78d12",
   "metadata": {},
   "outputs": [],
   "source": []
  }
 ],
 "metadata": {
  "kernelspec": {
   "display_name": "Python 3 (ipykernel)",
   "language": "python",
   "name": "python3"
  },
  "language_info": {
   "codemirror_mode": {
    "name": "ipython",
    "version": 3
   },
   "file_extension": ".py",
   "mimetype": "text/x-python",
   "name": "python",
   "nbconvert_exporter": "python",
   "pygments_lexer": "ipython3",
   "version": "3.7.3"
  }
 },
 "nbformat": 4,
 "nbformat_minor": 5
}
